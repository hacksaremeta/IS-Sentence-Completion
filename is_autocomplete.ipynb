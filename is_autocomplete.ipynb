{
  "cells": [
    {
      "cell_type": "markdown",
      "metadata": {
        "id": "view-in-github",
        "colab_type": "text"
      },
      "source": [
        "<a href=\"https://colab.research.google.com/github/hacksaremeta/IS-Sentence-Completion/blob/model/is_autocomplete.ipynb\" target=\"_parent\"><img src=\"https://colab.research.google.com/assets/colab-badge.svg\" alt=\"Open In Colab\"/></a>"
      ]
    },
    {
      "cell_type": "markdown",
      "metadata": {
        "id": "ph1q75Fa-a4Z"
      },
      "source": [
        "# Sentence Completion (TUD IS Project)\n",
        "\n",
        "<a href=\"https://colab.research.google.com/github/hacksaremeta/IS-Sentence-Completion/blob/datasets/is_autocomplete.ipynb\" target=\"_parent\"><img src=\"https://colab.research.google.com/assets/colab-badge.svg\" alt=\"Open In Colab\"/></a>\n",
        "\n",
        "## Table of contents\n",
        "* 1 [Introduction (TODO)](#introduction)  \n",
        "* 2 [Training data preparation](#data_preparation)  \n",
        "    * 2.1 [DataManager class](#data_manager)  \n",
        "    * 2.2 [DataUtils class](#data_utils)  \n",
        "* 3 [Keras Implementation](#impl_keras)  \n",
        "    * 3.1 [Data preparation](#keras_preparation)  \n",
        "    * 3.2 [The neural network](#keras_rnn)  "
      ]
    },
    {
      "cell_type": "markdown",
      "metadata": {
        "id": "83a_WoQu-a4d"
      },
      "source": [
        "<a id=\"data_preparation\"></a>\n",
        "## Training data preparation\n",
        "\n",
        "In order to fetch data from PubMed and save it into different datasets as well as to load those datasets, some functionality is needed. This functionality will be provided by the [DataManager class](#data_manager).\n",
        "The loaded dataset then has to be prepared for training the neural network. This includes tokenization, label and feature extraction and encoding, all of which is handled by the [DataUtils class](#data_utils).\n",
        "TODO: more explanation / documentation ..."
      ]
    },
    {
      "cell_type": "markdown",
      "metadata": {
        "id": "k9ncf2XA-a4d"
      },
      "source": [
        "<a id=\"data_manager\"></a>\n",
        "### DataManager Class\n",
        "\n",
        "- Provides functionality regarding data including fetch, persistence and TF2/Keras preparation utils"
      ]
    },
    {
      "cell_type": "code",
      "source": [
        "!pip install biopython"
      ],
      "metadata": {
        "colab": {
          "base_uri": "https://localhost:8080/"
        },
        "id": "fgNEorLo-gU_",
        "outputId": "4791f006-ca72-4ef5-e571-760e13e02ca5"
      },
      "execution_count": 3,
      "outputs": [
        {
          "output_type": "stream",
          "name": "stdout",
          "text": [
            "Collecting biopython\n",
            "  Downloading biopython-1.79-cp37-cp37m-manylinux_2_5_x86_64.manylinux1_x86_64.whl (2.3 MB)\n",
            "\u001b[K     |████████████████████████████████| 2.3 MB 5.0 MB/s \n",
            "\u001b[?25hRequirement already satisfied: numpy in /usr/local/lib/python3.7/dist-packages (from biopython) (1.19.5)\n",
            "Installing collected packages: biopython\n",
            "Successfully installed biopython-1.79\n"
          ]
        }
      ]
    },
    {
      "cell_type": "code",
      "execution_count": 4,
      "metadata": {
        "id": "1-rHWaum-a4e"
      },
      "outputs": [],
      "source": [
        "import os, json, logging, string\n",
        "from Bio import Entrez, Medline"
      ]
    },
    {
      "cell_type": "code",
      "execution_count": 5,
      "metadata": {
        "id": "0ynhg2b0-a4f"
      },
      "outputs": [],
      "source": [
        "class DataManager():\n",
        "    \"\"\"Provides fetch, save and load functionality for datasets in json format\"\"\"\n",
        "    \n",
        "    def __init__(self, email, root_dir):\n",
        "        self.email = email\n",
        "        self.root_dir = root_dir\n",
        "        self.log = logging.getLogger(self.__class__.__name__)\n",
        "\n",
        "    def _exists_dataset(self, name):\n",
        "        \"\"\"Checks whether a dataset with the given name exists\"\"\"\n",
        "        if not os.path.isdir(self.root_dir):\n",
        "            return False\n",
        "            \n",
        "        for file in os.listdir(self.root_dir):\n",
        "            if file.endswith(\".json\"):\n",
        "                with open(os.path.join(self.root_dir, file), 'r') as f:\n",
        "                    content = json.load(f)\n",
        "                    if content[\"name\"] == name:\n",
        "                        return True\n",
        "        return False\n",
        "\n",
        "    def _fetch_papers(self, query : str, limit : int) -> 'list[dict]':\n",
        "        \"\"\"Retrieves data from PubMed\"\"\"\n",
        "        Entrez.email = self.email\n",
        "        record = Entrez.read(Entrez.esearch(db=\"pubmed\", term=query, retmax=limit))\n",
        "        idlist = record[\"IdList\"]\n",
        "\n",
        "        self.log.info(\"\\nFound %d records for %s.\" % (len(idlist), query.strip()))\n",
        "\n",
        "        records = Medline.parse(Entrez.efetch(db=\"pubmed\", id=idlist, rettype=\"medline\", retmode = \"text\"))\n",
        "        return list(records)\n",
        "\n",
        "    def _fetch_abstracts(self, query : str, limit : int) -> 'list[str]':\n",
        "        \"\"\"Retrieves abstracts from PubMed\"\"\"\n",
        "        papers = self._fetch_papers(query, limit)\n",
        "        list_of_abstracts = [p[\"AB\"] for p in papers]\n",
        "        return list_of_abstracts\n",
        "        \n",
        "    def create_dataset(self, queries : 'list[str]', name : str, limit=50, overwrite=False) -> None:\n",
        "        \"\"\"\n",
        "        Wraps other methods in this class\n",
        "        Creates a dataset from multiple queries\n",
        "        Does nothing if the dataset is already present (param overwrite)\n",
        "        Limits every query to <limit> results\n",
        "        \"\"\"\n",
        "        exists_dataset = self._exists_dataset(name)\n",
        "        if not exists_dataset or (exists_dataset and overwrite):\n",
        "            self.log.info(\"Dataset does not exist, fetching from PubMed...\")\n",
        "\n",
        "            res = dict()\n",
        "            res[\"name\"] = name\n",
        "            res[\"data\"] = list()\n",
        "            for q in queries:\n",
        "                q_data = dict()\n",
        "                q_data[\"query\"] = q\n",
        "                q_data[\"abstracts\"] = self._fetch_abstracts(q, limit)\n",
        "                res[\"data\"].append(q_data)\n",
        "            \n",
        "            self._save_dataset(res, name)\n",
        "        else:\n",
        "            self.log.info(\"Dataset already exists, skipping fetch\")\n",
        "\n",
        "    def _save_dataset(self, dataset: dict, name : str) -> None:\n",
        "        \"\"\"\n",
        "        Creates a file <name>.json in the dataset directory\n",
        "        For JSON file structure see below\n",
        "        Param dataset has a structure analogous to the JSON file\n",
        "        \"\"\"\n",
        "        if not os.path.isdir(self.root_dir):\n",
        "            os.makedirs(self.root_dir)\n",
        "\n",
        "        with open(os.path.join(self.root_dir, name + \".json\"), 'w') as f:\n",
        "            json.dump(dataset, f, indent=2)\n",
        "        \n",
        "    def load_full_dataset(self, name : str) -> 'list[str]':\n",
        "        \"\"\"\n",
        "        Finds the file that matches given <name> in JSON information,\n",
        "        parses it, loading all abstracts into a list (one string for each abstract)\n",
        "        and returns it (Error if dataset doesn't exist)\n",
        "        \"\"\"\n",
        "\n",
        "        if  not self._exists_dataset(name):\n",
        "            self.log.info(\"Dataset does not exist\")\n",
        "            \n",
        "        else:\n",
        "           with open(os.path.join(self.root_dir, name+'.json'), 'r') as file:\n",
        "\n",
        "                abstract_list=[]\n",
        "                jsonObject = json.load(file)\n",
        "\n",
        "                data_list= jsonObject['data']\n",
        "\n",
        "                for item in data_list:\n",
        "                    abstract_list.extend(item['abstracts'])\n",
        "                return abstract_list\n",
        "\n",
        "    def load_query_from_dataset(self, name : str, query : str) -> 'list[str]':\n",
        "        \"\"\"Like load_full_dataset but only loads abstracts for a single query\"\"\"\n",
        "\n",
        "\n",
        "        result = self._exists_dataset(name)\n",
        "\n",
        "        if  result:\n",
        "\n",
        "            with open(os.path.join(self.root_dir, name+'.json'), 'r') as file:\n",
        "\n",
        "                query_abstracts=[]\n",
        "                jsonObject = json.load(file)\n",
        "                data_list= jsonObject['data']\n",
        "\n",
        "                q_names = [x['query'] for x in data_list]\n",
        "\n",
        "                if query not in q_names:\n",
        "                    self.log.info(\"The Query that you are searching for,does not exist in the Dataset\")\n",
        "                else:\n",
        "\n",
        "                      for queries in data_list:\n",
        "                            if queries['query'] == query:\n",
        "                              query_abstracts.extend(queries['abstracts'])\n",
        "                              return query_abstracts\n",
        "\n",
        "        else:\n",
        "             self.log.info(\"Dataset does not exist\")\n",
        "\n",
        "\n",
        "    def remove_punctuation(self, name:str) -> 'list[str]':\n",
        "\n",
        "\n",
        "            abstracts_list= self.load_full_dataset(name)\n",
        "\n",
        "            for text in abstracts:\n",
        "\n",
        "                text = text.translate(str.maketrans('', '', string.punctuation))\n",
        "                abstracts_list.append(text)\n",
        "\n",
        "\n",
        "            return  abstracts_list"
      ]
    },
    {
      "cell_type": "markdown",
      "metadata": {
        "id": "5byX7fyc-a4h"
      },
      "source": [
        "<a id=\"data_utils\"></a>\n",
        "### DataUtils Class\n",
        "- Static class providing utility functions to prepare data for training"
      ]
    },
    {
      "cell_type": "code",
      "execution_count": 6,
      "metadata": {
        "id": "Vxsw3AMu-a4h"
      },
      "outputs": [],
      "source": [
        "import numpy as np\n",
        "from typing import Any\n",
        "from sklearn.model_selection import train_test_split"
      ]
    },
    {
      "cell_type": "code",
      "execution_count": 7,
      "metadata": {
        "id": "Gn4elnKa-a4i"
      },
      "outputs": [],
      "source": [
        "# TODO: unify method param types (all np.array instead of list)\n",
        "class DataUtils():\n",
        "    \"\"\"Provides utility functions for data preparation\"\"\"\n",
        "    \n",
        "    @staticmethod\n",
        "    def extract_features_and_labels(sequences : 'list[list[Any]]', train_len : int) -> 'tuple[list[Any], list[Any]]':\n",
        "        \"\"\"\n",
        "        Extracts features of size <train_len> from the sequences\n",
        "        Also extracts every (<train_len>+1)-th word as labels\n",
        "        Returns tuple(features, labels)\n",
        "        \"\"\"\n",
        "        features = []\n",
        "        labels = []\n",
        "        for s in sequences:\n",
        "            for i in range(train_len, len(s)):\n",
        "\n",
        "                # Extract <train_len> + 1 words and\n",
        "                # shift by 1 after each iteration\n",
        "                # That way it generates a lot of training\n",
        "                # samples from a relatively small amount of data\n",
        "                ex = s[i-train_len : i+1]\n",
        "\n",
        "                # First <train_len> words are features\n",
        "                features.append(ex[:-1])\n",
        "                \n",
        "                # (<train_len>+1)-th word is label\n",
        "                labels.append(ex[-1])\n",
        "        \n",
        "        return (features, labels)\n",
        "             \n",
        "    @staticmethod\n",
        "    def encode_data(labels: 'list[Any]', num_code_words : int) -> np.array:\n",
        "        \"\"\"\n",
        "        One-hot encode labels using numpy to\n",
        "        improve the training speed of the network\n",
        "        \"\"\"\n",
        "\n",
        "        # Use numpy for better compatibility and performance\n",
        "        # Data type: 8bit integers for binary numbers (0, 1)\n",
        "        # Could be optimized in space by using single bits instead\n",
        "        # But that adds overhead in calculation (tradeoff time - space)\n",
        "        # Since we want improved training speed we just use\n",
        "        # numpys smallest data type byte/uint8 here\n",
        "        labels_encoded = np.zeros((len(labels), num_code_words), dtype=np.uint8)\n",
        "\n",
        "        # One-hot encode\n",
        "        for i, word in enumerate(labels):\n",
        "            labels_encoded[i, word] = 1\n",
        "            \n",
        "        return labels_encoded\n",
        "    \n",
        "    # Uses Scikit-learn here; maybe replace with own method in the future\n",
        "    @staticmethod\n",
        "    def split_data(features: np.array, labels: np.array, _test_size=0.2) -> Any:\n",
        "        \"\"\"\n",
        "        Splits features and labels into training and validation data sets\n",
        "        Returns: (features_training, features_validation, labels_training, labels_validation)\n",
        "        \"\"\"\n",
        "        return train_test_split(features, labels, test_size=_test_size)"
      ]
    },
    {
      "cell_type": "markdown",
      "metadata": {
        "id": "7DJfRQZSgWEU"
      },
      "source": [
        "<a id=\"impl_keras\"></a>\n",
        "## Keras Implementation (LSTM RNN)  \n",
        "For the general methodology regarding Keras neural networks see [Tensorflow Docs: Text generation with an RNN](https://www.tensorflow.org/text/tutorials/text_generation), [Sanchit Tanwar: Building our first neural network in keras](https://towardsdatascience.com/building-our-first-neural-network-in-keras-bdc8abbc17f5) and [Will Koehrsen: Recurrent Neural Networks by Example in Python](https://towardsdatascience.com/recurrent-neural-networks-by-example-in-python-ffd204f99470).\n",
        "In this case the sequences given are words instead of characters and the RNN predicts the next word.\n",
        "Therefore we use the Keras Tokenizer to convert sentences to vectors of word representatives (integers).\n",
        "After tokenization each 'word' will be converted to a feature vector using Keras pre-trained embeddings.\n",
        "Then we train the network by giving it n 'words' (features) from the PubMed training data and having it predict the (n+1)-th word (label) in the sequence.\n",
        "The predicted word is then compared to the actual word present in the training data and back-propagation is used to tweak the network layers."
      ]
    },
    {
      "cell_type": "markdown",
      "metadata": {
        "id": "zHgVW_Ut-a4j"
      },
      "source": [
        "<a id=\"keras_preparation\"></a>\n",
        "### Data preparation"
      ]
    },
    {
      "cell_type": "code",
      "execution_count": 8,
      "metadata": {
        "scrolled": true,
        "id": "XLfhk0cS-a4k"
      },
      "outputs": [],
      "source": [
        "from tensorflow.keras import Sequential\n",
        "from tensorflow.keras.layers import Embedding, LSTM, Masking, Dense, Dropout\n",
        "from tensorflow.keras.preprocessing.text import Tokenizer"
      ]
    },
    {
      "cell_type": "code",
      "execution_count": 11,
      "metadata": {
        "colab": {
          "base_uri": "https://localhost:8080/"
        },
        "id": "H_DQrwTagWEY",
        "outputId": "2d907fcd-d494-4532-cfe8-3dc1f1dfb3ce"
      },
      "outputs": [
        {
          "output_type": "stream",
          "name": "stderr",
          "text": [
            "[INFO] DataManager: Dataset does not exist, fetching from PubMed...\n",
            "[INFO] DataManager: \n",
            "Found 1 records for RNA.\n",
            "[INFO] DataManager: \n",
            "Found 1 records for mRNA.\n",
            "[INFO] DataManager: \n",
            "Found 1 records for tRNA.\n",
            "[DEBUG] Main: First extracted abstract: Patients with haemato-oncological malignancies are one of the high-risk groups for a severe course in case of COVID-19 infections. Furthermore, vaccination results in significantly lower response rates in haematological malignancies and lower antibody levels in patients with solid cancer. We investigated efficacy and safety of a heterologous booster vaccination with Ad26.COV2.S DNA vector vaccine in haemato-oncological patients without antibody response after double-dose BNT162b2 messenger (m-)RNA COVID-19 vaccine. A total of 32 haemato-oncological non-responders to double-dose BNT162b2 received a heterologous booster vaccination with Ad26.COV2.S. Blood samples were assessed directly before the vaccination (T0) and four weeks after (T1). Safety assessment was performed using a standardised questionnaire. The overall response rate was 31%, with a mean (SD) antibody titre of 693.79 (1 096.99) binding activity units (BAU)/ml. Patients with chronic lymphocytic leukaemia or lymphoma showed a significantly lower response rate (P = 0.048). Adverse events were reported in 29.6% of patients, of which 7.1% were graded as severe, including grade III and IV events following the Common Terminology Criteria of Adverse Events (CTCAE). The heterologous booster vaccination with Ad26.COV2.S led to a serological response in nine out of 29 patients without response after double-dose BNT162b2. Furthermore, the vaccination was safe in our cohort, leading to mainly mild local and systemic reactions. Overall, this vaccination regimen should be further evaluated to increase the response rate in the highly vulnerable population of haemato-oncological patients.\n",
            "[DEBUG] Main: First tokenized sequence: [9, 5, 24, 25, 26, 20, 53, 1, 3, 142, 143, 54, 21, 4, 27, 55, 2, 56, 1, 57, 58, 144, 28, 7, 59, 2, 29, 11, 8, 60, 2, 61, 26, 6, 11, 12, 62, 2, 9, 5, 63, 145, 30, 64, 65, 6, 31, 1, 4, 13, 14, 7, 5, 66, 67, 68, 39, 2, 24, 25, 9, 32, 12, 8, 15, 40, 41, 22, 69, 146, 147, 57, 58, 148, 4, 70, 1, 71, 24, 25, 149, 150, 10, 40, 41, 22, 72, 4, 13, 14, 7, 5, 151, 73, 74, 16, 75, 76, 77, 3, 7, 78, 6, 79, 80, 15, 81, 42, 31, 82, 17, 83, 84, 4, 85, 152, 3, 23, 8, 18, 17, 86, 5, 4, 87, 88, 12, 89, 1, 153, 90, 154, 91, 92, 93, 155, 156, 9, 5, 94, 95, 96, 97, 98, 99, 4, 29, 11, 8, 18, 100, 157, 42, 33, 19, 16, 38, 2, 158, 1, 9, 1, 43, 159, 16, 101, 34, 27, 102, 103, 104, 6, 105, 19, 106, 3, 107, 108, 109, 1, 33, 19, 110, 42, 3, 13, 14, 7, 5, 66, 111, 10, 4, 112, 8, 2, 113, 44, 1, 114, 9, 32, 8, 15, 40, 41, 160, 28, 3, 7, 17, 115, 2, 45, 116, 117, 10, 118, 119, 120, 6, 121, 161, 23, 122, 7, 123, 124, 35, 125, 126, 10, 127, 3, 8, 18, 2, 3, 128, 129, 130, 1, 24, 25, 162]\n",
            "[DEBUG] Main: First extracted feature: patients with haemato oncological malignancies are one of the high risk groups for a severe course in case of covid [9, 5, 24, 25, 26, 20, 53, 1, 3, 142, 143, 54, 21, 4, 27, 55, 2, 56, 1, 57]\n",
            "[DEBUG] Main: First extracted label: 19 [58]\n",
            "[DEBUG] Main: First one-hot encoded label: [0 ... 1 (at index 58) ... 0]\n",
            "[INFO] Main: Loaded 1221 sequences with an encoded length of ~35 bytes per sequence\n",
            "[INFO] Main: Size of training data: 1098 sequences\n",
            "[INFO] Main: Size of validation data: 123 sequences\n",
            "[INFO] Main: Training data preparation finished\n"
          ]
        }
      ],
      "source": [
        "if __name__ == \"__main__\":\n",
        "    # Init logging\n",
        "    logging.basicConfig(level=logging.DEBUG, format='[%(levelname)s] %(name)s: %(message)s')\n",
        "    log = logging.getLogger(\"Main\")\n",
        "\n",
        "    # Create DataManager in '../res/datasets' folder\n",
        "    data_folder = os.path.join(\"..\", \"res\", \"datasets\")\n",
        "    dman = DataManager(\"mymail@example.com\", data_folder)\n",
        "\n",
        "    dataset_name = \"RNA Dataset\"\n",
        "    queries = [\"RNA\", \"mRNA\", \"tRNA\"]\n",
        "\n",
        "    # Gather maximum of 100 abstracts for each query\n",
        "    # I would suggest around 5 - 20 abstracts in total for the small data sets\n",
        "    # and maybe 500 - 5000 for the final ones but we'll have to test\n",
        "    # since that depends on how long it takes to train the network\n",
        "    # This only queries PubMed if data if the data is not already present\n",
        "\n",
        "    records = 1\n",
        "    dman.create_dataset(queries, dataset_name, records, overwrite=True)\n",
        "\n",
        "    # Load the dataset\n",
        "    abstracts = dman.load_full_dataset(dataset_name)\n",
        "    abstracts_mrna = dman.load_query_from_dataset(dataset_name, queries[1])\n",
        "\n",
        "    ab = dman.remove_punctuation(dataset_name)\n",
        "\n",
        "    assert(len(ab) > 0)\n",
        "    log.debug(f\"First extracted abstract: {ab[0]}\")\n",
        "\n",
        "    # Tokenize abstracts\n",
        "    # See https://www.tensorflow.org/api_docs/python/tf/keras/preprocessing/text/Tokenizer\n",
        "    # Filters slightly modified (comp. to docs) to keep punctuation\n",
        "    # Lowercase has to be used for pre-trained embeddings\n",
        "    tokenizer = Tokenizer(\n",
        "        num_words=None, \n",
        "        filters='#$%&()*+-,<=>@[\\\\]^_`{|}~\\t\\n',\n",
        "        lower = True, split = ' '\n",
        "    )\n",
        "\n",
        "    tokenizer.fit_on_texts(ab)\n",
        "\n",
        "    # Generates list of lists of integers\n",
        "    # Can be reversed with the sequences_to_texts() function of the tokenizer\n",
        "    sequences = tokenizer.texts_to_sequences(ab)\n",
        "\n",
        "    assert(len(sequences) > 0)\n",
        "    log.debug(f\"First tokenized sequence: {sequences[0]}\")\n",
        "\n",
        "    # Prepare data for input to RNN\n",
        "    # Extract features and labels\n",
        "    # Number of words before prediction: num_pred\n",
        "    num_pred = 20\n",
        "    features, labels = DataUtils.extract_features_and_labels(sequences, 20)\n",
        "\n",
        "    assert(len(features) > 0 and len(labels) > 0)\n",
        "    log.debug(f\"First extracted feature: {tokenizer.sequences_to_texts(features)[0]} {features[0]}\")\n",
        "    log.debug(f\"First extracted label: {tokenizer.index_word[labels[0]]} [{labels[0]}]\")\n",
        "\n",
        "    # One-hot encode data for improved training performance\n",
        "    num_code_words = len(tokenizer.index_word) + 1\n",
        "    labels_encoded = DataUtils.encode_data(labels, num_code_words)\n",
        "    \n",
        "    assert(len(labels_encoded) > 0)\n",
        "    log.debug(f\"First one-hot encoded label: [0 ... {labels_encoded[0][labels[0]]} (at index {labels[0]}) ... 0]\")\n",
        "\n",
        "    # Final log for prepared data\n",
        "    log.info(f\"Loaded {labels_encoded.shape[0]} sequences\"\n",
        "             f\" with an encoded length of ~{labels_encoded.shape[1] // 8} bytes per sequence\")\n",
        "    \n",
        "    # Convert features to numpy array\n",
        "    # This is necessary for input to the RNN\n",
        "    features = np.array(features)\n",
        "    \n",
        "    # Split dataset into training and validation sets\n",
        "    features_training, features_validation, labels_training, labels_validation = \\\n",
        "    DataUtils.split_data(features, labels_encoded, 0.1)\n",
        "    \n",
        "    assert(len(features_training) > 0 and len(features_validation) > 0 and\n",
        "           len(labels_training) > 0 and len(labels_validation) > 0)\n",
        "    log.info(f\"Size of training data: {features_training.shape[0]} sequences\")\n",
        "    log.info(f\"Size of validation data: {features_validation.shape[0]} sequences\")\n",
        "    \n",
        "    log.info(\"Training data preparation finished\")"
      ]
    },
    {
      "cell_type": "markdown",
      "metadata": {
        "id": "lNnGtqZq-a4l"
      },
      "source": [
        "<a id=\"keras_rnn\"></a>\n",
        "### The neural Network"
      ]
    },
    {
      "cell_type": "code",
      "execution_count": 16,
      "metadata": {
        "id": "VRHKm03T-a4l"
      },
      "outputs": [],
      "source": [
        "# TODO: create neural network using Keras\n",
        "pass\n",
        "\n",
        "\n",
        "# Training the model\n",
        "# history = model.fit(features_training, labels_training,\n",
        "# validation_data=(features_validation, labels_validation), epochs=100, batch_size=64)\n",
        "\n",
        "\n",
        "model = Sequential()\n",
        "\n",
        "# Embedding layer\n",
        "# num_code_words numb of unique words \n",
        "# training_length we use the first 50 words\n",
        "training_length = num_pred\n",
        "model.add(\n",
        "    Embedding(input_dim=num_code_words,\n",
        "              input_length = training_length,\n",
        "              output_dim=labels_encoded.shape[1],\n",
        "              # weights=[labels_encoded],\n",
        "              trainable=False,\n",
        "              mask_zero=True))\n",
        "\n",
        "# Masking layer for pre-trained embeddings\n",
        "model.add(Masking(mask_value=0.0))\n",
        "\n",
        "# Recurrent layer\n",
        "model.add(LSTM(64, return_sequences=False, \n",
        "               dropout=0.1, recurrent_dropout=0.1))\n",
        "\n",
        "# Fully connected layer\n",
        "model.add(Dense(64, activation='relu'))\n",
        "\n",
        "# Dropout for regularization\n",
        "model.add(Dropout(0.5))\n",
        "\n",
        "# Output layer\n",
        "model.add(Dense(num_code_words, activation='softmax'))\n",
        "\n",
        "# Compile the model\n",
        "model.compile(\n",
        "    optimizer='adam', loss='categorical_crossentropy', metrics=['accuracy'])"
      ]
    },
    {
      "cell_type": "code",
      "source": [
        "X_train = features_training\n",
        "y_train = labels_training\n",
        "X_valid = features_validation\n",
        "y_valid = labels_validation\n",
        "# save the best version of the model \n",
        "history = model.fit(X_train,  y_train,  batch_size=2048, \n",
        "          epochs=10, validation_data=(X_valid, y_valid))"
      ],
      "metadata": {
        "id": "q-OY4rVbEr_x",
        "outputId": "5cb776a8-2bc8-4f90-85ee-7f40f57da897",
        "colab": {
          "base_uri": "https://localhost:8080/"
        }
      },
      "execution_count": 15,
      "outputs": [
        {
          "output_type": "stream",
          "name": "stdout",
          "text": [
            "Epoch 1/10\n",
            "1/1 [==============================] - 1s 714ms/step - loss: 4.8607 - accuracy: 0.0410 - val_loss: 5.3112 - val_accuracy: 0.0325\n",
            "Epoch 2/10\n",
            "1/1 [==============================] - 1s 742ms/step - loss: 4.8607 - accuracy: 0.0483 - val_loss: 5.2974 - val_accuracy: 0.0325\n",
            "Epoch 3/10\n",
            "1/1 [==============================] - 1s 737ms/step - loss: 4.8534 - accuracy: 0.0501 - val_loss: 5.2744 - val_accuracy: 0.0325\n",
            "Epoch 4/10\n",
            "1/1 [==============================] - 1s 728ms/step - loss: 4.8683 - accuracy: 0.0510 - val_loss: 5.2551 - val_accuracy: 0.0325\n",
            "Epoch 5/10\n",
            "1/1 [==============================] - 1s 711ms/step - loss: 4.8376 - accuracy: 0.0401 - val_loss: 5.2463 - val_accuracy: 0.0325\n",
            "Epoch 6/10\n",
            "1/1 [==============================] - 1s 739ms/step - loss: 4.8292 - accuracy: 0.0446 - val_loss: 5.2462 - val_accuracy: 0.0325\n",
            "Epoch 7/10\n",
            "1/1 [==============================] - 1s 716ms/step - loss: 4.8225 - accuracy: 0.0446 - val_loss: 5.2393 - val_accuracy: 0.0407\n",
            "Epoch 8/10\n",
            "1/1 [==============================] - 1s 713ms/step - loss: 4.8019 - accuracy: 0.0483 - val_loss: 5.2270 - val_accuracy: 0.0407\n",
            "Epoch 9/10\n",
            "1/1 [==============================] - 1s 729ms/step - loss: 4.7852 - accuracy: 0.0528 - val_loss: 5.2092 - val_accuracy: 0.0325\n",
            "Epoch 10/10\n",
            "1/1 [==============================] - 1s 717ms/step - loss: 4.7810 - accuracy: 0.0455 - val_loss: 5.2002 - val_accuracy: 0.0325\n"
          ]
        }
      ]
    },
    {
      "cell_type": "code",
      "source": [
        "history.history"
      ],
      "metadata": {
        "id": "3jc0a16tHXM0",
        "outputId": "2760dea0-dd07-485e-fa13-a9c813a0b8b9",
        "colab": {
          "base_uri": "https://localhost:8080/"
        }
      },
      "execution_count": 103,
      "outputs": [
        {
          "output_type": "execute_result",
          "data": {
            "text/plain": [
              "{'accuracy': [0.03369763121008873,\n",
              "  0.04553734138607979,\n",
              "  0.0346083790063858,\n",
              "  0.0382513664662838,\n",
              "  0.040072858333587646,\n",
              "  0.03916211426258087,\n",
              "  0.03916211426258087,\n",
              "  0.03642987087368965,\n",
              "  0.05009107291698456,\n",
              "  0.04553734138607979,\n",
              "  0.04098360612988472,\n",
              "  0.04918032884597778,\n",
              "  0.04189435392618179,\n",
              "  0.04098360612988472,\n",
              "  0.03916211426258087,\n",
              "  0.04826958104968071,\n",
              "  0.04553734138607979,\n",
              "  0.04826958104968071,\n",
              "  0.044626593589782715,\n",
              "  0.05282331630587578],\n",
              " 'loss': [5.067013740539551,\n",
              "  5.077101230621338,\n",
              "  5.047342777252197,\n",
              "  5.055200099945068,\n",
              "  5.047453880310059,\n",
              "  5.054710865020752,\n",
              "  5.061315536499023,\n",
              "  5.039441108703613,\n",
              "  5.026025295257568,\n",
              "  5.029038429260254,\n",
              "  5.018542766571045,\n",
              "  5.003678798675537,\n",
              "  4.992433071136475,\n",
              "  4.996974468231201,\n",
              "  4.985339641571045,\n",
              "  4.978785037994385,\n",
              "  4.976564884185791,\n",
              "  4.986665725708008,\n",
              "  4.970412254333496,\n",
              "  4.951289176940918],\n",
              " 'val_accuracy': [0.056910570710897446,\n",
              "  0.056910570710897446,\n",
              "  0.056910570710897446,\n",
              "  0.056910570710897446,\n",
              "  0.056910570710897446,\n",
              "  0.056910570710897446,\n",
              "  0.056910570710897446,\n",
              "  0.04878048598766327,\n",
              "  0.04065040498971939,\n",
              "  0.04065040498971939,\n",
              "  0.04065040498971939,\n",
              "  0.04065040498971939,\n",
              "  0.04065040498971939,\n",
              "  0.04065040498971939,\n",
              "  0.04065040498971939,\n",
              "  0.04065040498971939,\n",
              "  0.04878048598766327,\n",
              "  0.04878048598766327,\n",
              "  0.04878048598766327,\n",
              "  0.04878048598766327],\n",
              " 'val_loss': [5.212522506713867,\n",
              "  5.201118469238281,\n",
              "  5.189680099487305,\n",
              "  5.179745674133301,\n",
              "  5.171322822570801,\n",
              "  5.16370964050293,\n",
              "  5.157140254974365,\n",
              "  5.151780128479004,\n",
              "  5.147400379180908,\n",
              "  5.142074108123779,\n",
              "  5.133703231811523,\n",
              "  5.123533248901367,\n",
              "  5.113071918487549,\n",
              "  5.103494644165039,\n",
              "  5.095618724822998,\n",
              "  5.089694023132324,\n",
              "  5.085237979888916,\n",
              "  5.077899932861328,\n",
              "  5.069307327270508,\n",
              "  5.063593864440918]}"
            ]
          },
          "metadata": {},
          "execution_count": 103
        }
      ]
    }
  ],
  "metadata": {
    "colab": {
      "collapsed_sections": [],
      "name": "dataset.ipynb",
      "provenance": [],
      "include_colab_link": true
    },
    "kernelspec": {
      "display_name": "Python 3 (ipykernel)",
      "language": "python",
      "name": "python3"
    },
    "language_info": {
      "codemirror_mode": {
        "name": "ipython",
        "version": 3
      },
      "file_extension": ".py",
      "mimetype": "text/x-python",
      "name": "python",
      "nbconvert_exporter": "python",
      "pygments_lexer": "ipython3",
      "version": "3.8.5"
    }
  },
  "nbformat": 4,
  "nbformat_minor": 0
}