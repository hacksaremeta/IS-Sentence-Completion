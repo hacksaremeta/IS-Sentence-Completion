{
  "cells": [
    {
      "cell_type": "markdown",
      "metadata": {
        "id": "view-in-github",
        "colab_type": "text"
      },
      "source": [
        "<a href=\"https://colab.research.google.com/github/hacksaremeta/IS-Sentence-Completion/blob/model/is_autocomplete.ipynb\" target=\"_parent\"><img src=\"https://colab.research.google.com/assets/colab-badge.svg\" alt=\"Open In Colab\"/></a>"
      ]
    },
    {
      "cell_type": "markdown",
      "metadata": {
        "id": "ph1q75Fa-a4Z"
      },
      "source": [
        "# Sentence Completion (TUD IS Project)\n",
        "\n",
        "## Table of contents\n",
        "* 1 [Introduction (TODO)](#introduction)  \n",
        "* 2 [Training data preparation](#data_preparation)  \n",
        "    * 2.1 [DataManager class](#data_manager)  \n",
        "    * 2.2 [DataUtils class](#data_utils)  \n",
        "* 3 [Keras Implementation](#impl_keras)  \n",
        "    * 3.1 [Data preparation](#keras_preparation)  \n",
        "    * 3.2 [Creating a neural network](#keras_create_rnn)\n",
        "    * 3.3 [Training the neural network](#keras_train_rnn)\n",
        "    * 3.4 [Evaluating the neural network](#keras_evaluate_rnn)\n",
        "    * 3.5 [Making Predictions](#keras_predict_rnn)\n",
        "* 4 [Conclusion (TODO)](#conclusion) "
      ]
    },
    {
      "cell_type": "markdown",
      "metadata": {
        "id": "83a_WoQu-a4d"
      },
      "source": [
        "<a id=\"data_preparation\"></a>\n",
        "## Training data preparation\n",
        "\n",
        "In order to fetch data from PubMed and save it into different datasets as well as to load those datasets, some functionality is needed. This functionality will be provided by the [DataManager class](#data_manager).\n",
        "The loaded dataset then has to be prepared for training the neural network. This includes tokenization, label and feature extraction and encoding, all of which is handled by the [DataUtils class](#data_utils).\n",
        "TODO: more explanation / documentation ..."
      ]
    },
    {
      "cell_type": "markdown",
      "metadata": {
        "id": "k9ncf2XA-a4d"
      },
      "source": [
        "<a id=\"data_manager\"></a>\n",
        "### DataManager Class\n",
        "\n",
        "- Provides functionality regarding data including fetch, persistence and TF2/Keras preparation utils"
      ]
    },
    {
      "cell_type": "code",
      "execution_count": null,
      "metadata": {
        "id": "fgNEorLo-gU_"
      },
      "outputs": [],
      "source": [
        "!pip install biopython"
      ]
    },
    {
      "cell_type": "code",
      "execution_count": null,
      "metadata": {
        "id": "1-rHWaum-a4e"
      },
      "outputs": [],
      "source": [
        "import os, json, logging, string\n",
        "from Bio import Entrez, Medline"
      ]
    },
    {
      "cell_type": "code",
      "execution_count": null,
      "metadata": {
        "id": "0ynhg2b0-a4f"
      },
      "outputs": [],
      "source": [
        "class DataManager():\n",
        "    \"\"\"Provides fetch, save and load functionality for datasets in json format\"\"\"\n",
        "    \n",
        "    def __init__(self, email, root_dir):\n",
        "        self.email = email\n",
        "        self.root_dir = root_dir\n",
        "        self.log = logging.getLogger(self.__class__.__name__)\n",
        "\n",
        "    def _exists_dataset(self, name):\n",
        "        \"\"\"Checks whether a dataset with the given name exists\"\"\"\n",
        "        if not os.path.isdir(self.root_dir):\n",
        "            return False\n",
        "            \n",
        "        for file in os.listdir(self.root_dir):\n",
        "            if file.endswith(\".json\"):\n",
        "                with open(os.path.join(self.root_dir, file), 'r') as f:\n",
        "                    content = json.load(f)\n",
        "                    if content[\"name\"] == name:\n",
        "                        return True\n",
        "        return False\n",
        "\n",
        "    def _fetch_papers(self, query : str, limit : int) -> 'list[dict]':\n",
        "        \"\"\"Retrieves data from PubMed\"\"\"\n",
        "        Entrez.email = self.email\n",
        "        record = Entrez.read(Entrez.esearch(db=\"pubmed\", term=query, retmax=limit))\n",
        "        idlist = record[\"IdList\"]\n",
        "        self.log.info(\"Found %d records for %s.\" % (len(idlist), query.strip()))\n",
        "        records = Medline.parse(Entrez.efetch(db=\"pubmed\", id=idlist, rettype=\"medline\", retmode = \"text\"))\n",
        "        return [r for r in records if \"AB\" in r]\n",
        "\n",
        "        \n",
        "    def create_dataset(self, query : str, name : str, limit=50, overwrite=False) -> None:\n",
        "        \"\"\"\n",
        "        Wraps other methods in this class\n",
        "        Creates a dataset from multiple queries\n",
        "        Does nothing if the dataset is already present (param overwrite)\n",
        "        Limits every query to <limit> results\n",
        "        \"\"\"\n",
        "        exists_dataset = self._exists_dataset(name)\n",
        "        if not exists_dataset or (exists_dataset and overwrite):\n",
        "            self.log.info(\"Dataset does not exist, fetching from PubMed...\")\n",
        "            q_data = dict()\n",
        "            q_data[\"query\"] = query\n",
        "            papers = self._fetch_papers(query, limit)\n",
        "            list_of_abstracts = [p[\"AB\"] for p in papers]\n",
        "            q_data[\"abstracts\"] = list_of_abstracts\n",
        "            res = {\"name\": name}\n",
        "            res[\"data\"] = list()\n",
        "            res[\"data\"].append(q_data)\n",
        "            self._save_dataset(res, name)\n",
        "        else:\n",
        "            self.log.info(\"Dataset already exists, skipping fetch\")\n",
        "\n",
        "    def _save_dataset(self, dataset: dict, name : str) -> None:\n",
        "        \"\"\"\n",
        "        Creates a file <name>.json in the dataset directory\n",
        "        For JSON file structure see below\n",
        "        Param dataset has a structure analogous to the JSON file\n",
        "        \"\"\"\n",
        "        if not os.path.isdir(self.root_dir):\n",
        "            os.makedirs(self.root_dir)\n",
        "\n",
        "        with open(os.path.join(self.root_dir, name + \".json\"), 'w') as f:\n",
        "            json.dump(dataset, f, indent=2)\n",
        "        \n",
        "    def load_full_dataset(self, name : str) -> 'list[str]':\n",
        "        \"\"\"\n",
        "        Finds the file that matches given <name> in JSON information,\n",
        "        parses it, loading all abstracts into a list (one string for each abstract)\n",
        "        and returns it (Error if dataset doesn't exist)\n",
        "        \"\"\"\n",
        "\n",
        "        if  not self._exists_dataset(name):\n",
        "            self.log.info(\"Dataset does not exist\")\n",
        "            \n",
        "        else:\n",
        "           with open(os.path.join(self.root_dir, name+'.json'), 'r') as file:\n",
        "                abstract_list=[]\n",
        "                jsonObject = json.load(file)\n",
        "                data_list= jsonObject['data']\n",
        "                for item in data_list:\n",
        "                    abstract_list.extend(item['abstracts'])\n",
        "                return abstract_list\n",
        "\n",
        "    def load_query_from_dataset(self, name : str, query : str) -> 'list[str]':\n",
        "        \"\"\"Like load_full_dataset but only loads abstracts for a single query\"\"\"\n",
        "\n",
        "\n",
        "        result = self._exists_dataset(name)\n",
        "\n",
        "        if  result:\n",
        "\n",
        "            with open(os.path.join(self.root_dir, name+'.json'), 'r') as file:\n",
        "\n",
        "                query_abstracts=[]\n",
        "                jsonObject = json.load(file)\n",
        "                data_list= jsonObject['data']\n",
        "\n",
        "                q_names = [x['query'] for x in data_list]\n",
        "\n",
        "                if query not in q_names:\n",
        "                    self.log.info(\"The Query that you are searching for,does not exist in the Dataset\")\n",
        "                else:\n",
        "\n",
        "                      for queries in data_list:\n",
        "                            if queries['query'] == query:\n",
        "                              query_abstracts.extend(queries['abstracts'])\n",
        "                              return query_abstracts\n",
        "\n",
        "        else:\n",
        "             self.log.info(\"Dataset does not exist\")\n",
        "\n",
        "\n",
        "    def remove_punctuation(self, name:str) -> 'list[str]':\n",
        "\n",
        "\n",
        "            abstracts_list= self.load_full_dataset(name)\n",
        "\n",
        "            for text in abstracts:\n",
        "\n",
        "                text = text.translate(str.maketrans('', '', string.punctuation))\n",
        "                abstracts_list.append(text)\n",
        "\n",
        "\n",
        "            return  abstracts_list"
      ]
    },
    {
      "cell_type": "markdown",
      "metadata": {
        "id": "5byX7fyc-a4h"
      },
      "source": [
        "<a id=\"data_utils\"></a>\n",
        "### DataUtils Class\n",
        "- Static class providing utility functions to prepare data for training"
      ]
    },
    {
      "cell_type": "code",
      "execution_count": null,
      "metadata": {
        "id": "Vxsw3AMu-a4h"
      },
      "outputs": [],
      "source": [
        "import numpy as np\n",
        "from typing import Any\n",
        "from sklearn.model_selection import train_test_split"
      ]
    },
    {
      "cell_type": "code",
      "execution_count": null,
      "metadata": {
        "id": "Gn4elnKa-a4i"
      },
      "outputs": [],
      "source": [
        "# TODO: unify method param types (all np.array instead of list)\n",
        "class DataUtils():\n",
        "    \"\"\"Provides utility functions for data preparation\"\"\"\n",
        "    \n",
        "    @staticmethod\n",
        "    def extract_features_and_labels(sequences : 'list[list[Any]]', train_len : int) -> 'tuple[list[Any], list[Any]]':\n",
        "        \"\"\"\n",
        "        Extracts features of size <train_len> from the sequences\n",
        "        Also extracts every (<train_len>+1)-th word as labels\n",
        "        Returns tuple(features, labels)\n",
        "        \"\"\"\n",
        "        features = []\n",
        "        labels = []\n",
        "        for s in sequences:\n",
        "            for i in range(train_len, len(s)):\n",
        "\n",
        "                # Extract <train_len> + 1 words and\n",
        "                # shift by 1 after each iteration\n",
        "                # That way it generates a lot of training\n",
        "                # samples from a relatively small amount of data\n",
        "                ex = s[i-train_len : i+1]\n",
        "\n",
        "                # First <train_len> words are features\n",
        "                features.append(ex[:-1])\n",
        "                \n",
        "                # (<train_len>+1)-th word is label\n",
        "                labels.append(ex[-1])\n",
        "        \n",
        "        return (features, labels)\n",
        "             \n",
        "    @staticmethod\n",
        "    def encode_data(labels : 'list[Any]', num_code_words : int) -> np.array:\n",
        "        \"\"\"\n",
        "        One-hot encode labels using numpy to\n",
        "        improve the training speed of the network\n",
        "        \"\"\"\n",
        "\n",
        "        # Use numpy for better compatibility and performance\n",
        "        # Data type: 8bit integers for binary numbers (0, 1)\n",
        "        # Could be optimized in space by using single bits instead\n",
        "        # But that adds overhead in calculation (tradeoff time - space)\n",
        "        # Since we want improved training speed we just use\n",
        "        # numpys smallest data type byte/uint8 here\n",
        "        labels_encoded = np.zeros((len(labels), num_code_words), dtype=np.uint8)\n",
        "\n",
        "        # One-hot encode\n",
        "        for i, word in enumerate(labels):\n",
        "            labels_encoded[i, word] = 1\n",
        "            \n",
        "        return labels_encoded\n",
        "    \n",
        "    # Uses Scikit-learn here; maybe replace with own method in the future\n",
        "    @staticmethod\n",
        "    def split_data(features: np.array, labels: np.array, _test_size=0.2) -> Any:\n",
        "        \"\"\"\n",
        "        Splits features and labels into training and validation data sets\n",
        "        Returns: (features_training, features_validation, labels_training, labels_validation)\n",
        "        \"\"\"\n",
        "        return train_test_split(features, labels, test_size=_test_size)"
      ]
    },
    {
      "cell_type": "markdown",
      "metadata": {
        "id": "7DJfRQZSgWEU"
      },
      "source": [
        "<a id=\"impl_keras\"></a>\n",
        "## Keras Implementation (LSTM RNN)  \n",
        "For the general methodology regarding Keras neural networks see [Tensorflow Docs: Text generation with an RNN](https://www.tensorflow.org/text/tutorials/text_generation), [Sanchit Tanwar: Building our first neural network in keras](https://towardsdatascience.com/building-our-first-neural-network-in-keras-bdc8abbc17f5) and [Will Koehrsen: Recurrent Neural Networks by Example in Python](https://towardsdatascience.com/recurrent-neural-networks-by-example-in-python-ffd204f99470).\n",
        "In this case the sequences given are words instead of characters and the RNN predicts the next word.\n",
        "Therefore we use the Keras Tokenizer to convert sentences to vectors of word representatives (integers).\n",
        "After tokenization each 'word' will be converted to a feature vector using Keras pre-trained embeddings.\n",
        "Then we train the network by giving it n 'words' (features) from the PubMed training data and having it predict the (n+1)-th word (label) in the sequence.\n",
        "The predicted word is then compared to the actual word present in the training data and back-propagation is used to tweak the network layers."
      ]
    },
    {
      "cell_type": "markdown",
      "metadata": {
        "id": "zHgVW_Ut-a4j"
      },
      "source": [
        "<a id=\"keras_preparation\"></a>\n",
        "### Data preparation"
      ]
    },
    {
      "cell_type": "code",
      "execution_count": null,
      "metadata": {
        "id": "XLfhk0cS-a4k",
        "scrolled": true
      },
      "outputs": [],
      "source": [
        "import re, pickle\n",
        "from tensorflow import device\n",
        "from tensorflow.keras import Sequential\n",
        "from tensorflow.keras.optimizers import Adam\n",
        "from tensorflow.keras.models import load_model\n",
        "from tensorflow.keras.layers import Embedding, LSTM, Masking, Dense, Dropout, Flatten, Input\n",
        "from tensorflow.keras.preprocessing.text import Tokenizer"
      ]
    },
    {
      "cell_type": "code",
      "execution_count": null,
      "metadata": {
        "colab": {
          "base_uri": "https://localhost:8080/"
        },
        "id": "H_DQrwTagWEY",
        "outputId": "ab13ecdb-60aa-48a7-c92a-1c2fcfcaee09"
      },
      "outputs": [
        {
          "name": "stderr",
          "output_type": "stream",
          "text": [
            "[INFO] DataManager: Dataset already exists, skipping fetch\n",
            "[DEBUG] Main: First extracted abstract: The rapid emergence of novel psychoactive substances (NPS) poses new challenges and requirements for forensic testing/analysis techniques. This paper aims to explore the application of unsupervised clustering of NPS compounds' infrared spectra. Two statistical measures, Pearson and Spearman, were used to quantify the spectral similarity and to generate similarity matrices for hierarchical clustering. The correspondence of spectral similarity clustering trees to the commonly used structural/pharmacological categorization was evaluated and compared to the clustering generated using 2D/3D molecular fingerprints. Hybrid model feature selections were applied using different filter-based feature ranking algorithms developed for unsupervised clustering tasks. Since Spearman tends to overestimate the spectral similarity based on the overall pattern of the full spectrum, the clustering result shows the highest degree of improvement from having the nondiscriminative features removed. The loading plots of the first two principal components of the optimal feature subsets confirmed that the most important vibrational bands contributing to the clustering of NPS compounds were selected using non-negative discriminative feature selection (NDFS) algorithms.\n",
            "[DEBUG] Main: Successfully isolated punctuation\n",
            "[DEBUG] Main: First tokenized sequence: [15, 1039, 4014, 2, 86, 11101, 6299, 18100, 3414, 63, 522, 3, 1783, 11, 4600, 1040, 56, 38, 156, 4, 64, 67, 667, 5, 479, 1, 284, 2, 137, 9, 2, 7472, 18101, 7922, 755, 4, 1090, 306, 271, 6, 2479, 3, 4601, 6, 42, 41, 5, 1843, 1, 191, 96, 3, 5, 547, 96, 582, 11, 168, 9, 4, 15, 3701, 2, 191, 96, 9, 1064, 5, 1, 756, 41, 433, 56, 6061, 5317, 44, 253, 3, 88, 5, 1, 9, 388, 37, 1831, 56, 569, 225, 2914, 4, 6062, 46, 104, 7923, 42, 110, 37, 43, 10095, 104, 1844, 40, 129, 11, 137, 9, 409, 4, 985, 4601, 2915, 5, 7924, 1, 191, 96, 36, 14, 1, 704, 389, 2, 1, 1139, 1602, 6, 1, 9, 220, 499, 1, 830, 705, 2, 646, 23, 1349, 1, 11102, 79, 4086, 4, 15, 4602, 3153, 2, 1, 158, 73, 757, 536, 2, 1, 200, 104, 1344, 1441, 16, 1, 92, 131, 11103, 3154, 1982, 5, 1, 9, 2, 7472, 2241, 42, 464, 37, 2480, 1041, 104, 139, 18102, 40, 4]\n",
            "[DEBUG] Main: First extracted feature: The rapid emergence of novel psychoactive substances (NPS) poses new challenges and requirements for forensic testing / analysis techniques . [15, 1039, 4014, 2, 86, 11101, 6299, 18100, 3414, 63, 522, 3, 1783, 11, 4600, 1040, 56, 38, 156, 4]\n",
            "[DEBUG] Main: First extracted label: This [64]\n",
            "[DEBUG] Main: First one-hot encoded label: [0 ... 1 (at index 64) ... 0]\n",
            "[INFO] Main: Loaded 596667 sequences with an encoded length of ~3448 bytes per sequence\n",
            "[INFO] Main: Size of training data: 477333 sequences\n",
            "[INFO] Main: Size of validation data: 119334 sequences\n",
            "[INFO] Main: Training data preparation finished\n"
          ]
        }
      ],
      "source": [
        "if __name__ == \"__main__\":\n",
        "    # Init logging\n",
        "    logging.basicConfig(level=logging.DEBUG, format='[%(levelname)s] %(name)s: %(message)s')\n",
        "    log = logging.getLogger(\"Main\")\n",
        "\n",
        "    # Create DataManager in 'res/datasets' folder\n",
        "    data_folder = os.path.join(\"res\", \"datasets\")\n",
        "    dman = DataManager(\"mymail@example.com\", data_folder)\n",
        "\n",
        "\n",
        "    query = \"clustering[ti] algorithm\"\n",
        "    records = 1500\n",
        "    dataset_name = f\"{query} Dataset {records}\"\n",
        "\n",
        "    # Gather maximum of 100 abstracts for each query\n",
        "    # I would suggest around 5 - 20 abstracts in total for the small data sets\n",
        "    # and maybe 500 - 5000 for the final ones but we'll have to test\n",
        "    # since that depends on how long it takes to train the network\n",
        "\n",
        "    # This only queries PubMed if data if the data is not already present\n",
        "    dman.create_dataset(query, dataset_name, records, overwrite=False)\n",
        "    abstracts = dman.load_full_dataset(dataset_name)\n",
        "    abstracts_mrna = dman.load_query_from_dataset(dataset_name, query)\n",
        "\n",
        "    ab = dman.remove_punctuation(dataset_name)\n",
        "\n",
        "    assert(len(ab) > 0)\n",
        "    log.debug(f\"First extracted abstract: {ab[0]}\")\n",
        "\n",
        "    # Separate punctuation to keep in tokenization\n",
        "    punc = r\"([.:,;!?&/])\"\n",
        "    \n",
        "    ab_punc = []\n",
        "    for w in ab:\n",
        "        w = re.sub(punc, r\" \\1 \", w)\n",
        "        ab_punc.append(w)\n",
        "    \n",
        "    assert(len(ab_punc) > 0)\n",
        "    log.debug(f\"Successfully isolated punctuation\")\n",
        "    \n",
        "    # Tokenize abstracts\n",
        "    # See https://www.tensorflow.org/api_docs/python/tf/keras/preprocessing/text/Tokenizer\n",
        "    # Filters slightly modified (comp. to docs) to keep punctuation\n",
        "    # Lowercase has to be used for pre-trained embeddings (filters='#$%&()*+-,<=>@[\\\\]^_`{|}~\\t\\n')\n",
        "    # '\"%;[\\\\]^_`{|}~\\t\\n'\n",
        "    tokenizer = Tokenizer(\n",
        "        num_words=None, \n",
        "        filters='\"#*+<=>@[\\\\]_`{|}~\\t\\n',\n",
        "        lower = False, split = ' '\n",
        "    )\n",
        "\n",
        "    tokenizer.fit_on_texts(ab_punc)\n",
        "\n",
        "    # Generates list of lists of integers\n",
        "    # Can be reversed with the sequences_to_texts() function of the tokenizer\n",
        "    sequences = tokenizer.texts_to_sequences(ab_punc)\n",
        "\n",
        "    assert(len(sequences) > 0)\n",
        "    log.debug(f\"First tokenized sequence: {sequences[0]}\")\n",
        "\n",
        "    # Prepare data for input to RNN\n",
        "    # Extract features and labels\n",
        "    # Number of words before prediction: num_pred\n",
        "    num_pred = 20\n",
        "    features, labels = DataUtils.extract_features_and_labels(sequences, num_pred)\n",
        "\n",
        "    assert(len(features) > 0 and len(labels) > 0)\n",
        "    log.debug(f\"First extracted feature: {tokenizer.sequences_to_texts(features)[0]} {features[0]}\")\n",
        "    log.debug(f\"First extracted label: {tokenizer.index_word[labels[0]]} [{labels[0]}]\")\n",
        "\n",
        "    # One-hot encode data for improved training performance\n",
        "    num_code_words = len(tokenizer.index_word) + 1\n",
        "    labels_encoded = DataUtils.encode_data(labels, num_code_words)\n",
        "\n",
        "    assert(len(labels_encoded) > 0)\n",
        "    log.debug(f\"First one-hot encoded label: [0 ... {labels_encoded[0][labels[0]]} (at index {labels[0]}) ... 0]\")\n",
        "\n",
        "    # Final log for prepared data\n",
        "    log.info(f\"Loaded {labels_encoded.shape[0]} sequences\"\n",
        "             f\" with an encoded length of ~{labels_encoded.shape[1] // 8} bytes per sequence\")\n",
        "    \n",
        "    # Convert features to numpy array\n",
        "    # This is necessary for input to the RNN\n",
        "    features = np.array(features)\n",
        "    \n",
        "    # Split dataset into training and validation sets\n",
        "    features_training, features_validation, labels_training, labels_validation = \\\n",
        "    DataUtils.split_data(features, labels_encoded, 0.2)\n",
        "    \n",
        "    assert(len(features_training) > 0 and len(features_validation) > 0 and\n",
        "           len(labels_training) > 0 and len(labels_validation) > 0)\n",
        "    log.info(f\"Size of training data: {features_training.shape[0]} sequences\")\n",
        "    log.info(f\"Size of validation data: {features_validation.shape[0]} sequences\")\n",
        "    \n",
        "    log.info(\"Training data preparation finished\")"
      ]
    },
    {
      "cell_type": "markdown",
      "metadata": {
        "id": "lNnGtqZq-a4l"
      },
      "source": [
        "<a id=\"keras_create_rnn\"></a>\n",
        "### Creating the neural network"
      ]
    },
    {
      "cell_type": "code",
      "execution_count": null,
      "metadata": {
        "id": "VRHKm03T-a4l"
      },
      "outputs": [],
      "source": [
        "# Network params\n",
        "train_embedding = True\n",
        "embed_vec_size = 200\n",
        "num_nodes_lstm = 128\n",
        "num_nodes_dense = 128\n",
        "# Training params\n",
        "num_batch = 2048\n",
        "num_epochs = 150\n",
        "\n",
        "X_train = features_training\n",
        "y_train = labels_training\n",
        "X_valid = features_validation\n",
        "y_valid = labels_validation\n",
        "\n",
        "# Model save params\n",
        "model_name = \"model-baseline\"\n",
        "\n",
        "# Create directories if necessary\n",
        "model_dir = os.path.join(\"res\", \"models\")\n",
        "if not os.path.isdir(model_dir):\n",
        "    os.makedirs(model_dir)\n",
        "    \n",
        "tokenizer_dir = os.path.join(\"res\", \"tokenizers\")\n",
        "if not os.path.isdir(tokenizer_dir):\n",
        "    os.makedirs(tokenizer_dir)\n",
        "    \n",
        "# To make predictions later the tokenizer has to be saved\n",
        "with open(os.path.join(tokenizer_dir, model_name + \".pkl\"), \"wb\") as f:\n",
        "    pickle.dump(tokenizer, f)\n",
        "\n",
        "# Filename semantics:\n",
        "# <model_name>_<train_size>_<output_dim>_<selftrained_embeddings>_<num_nodes_lstm>_<num_nodes_dense>_<num_epochs>.h5\n",
        "model_file = model_name + \"_\" + str(X_train.shape[0]) \\\n",
        "    + \"_\" + str(embed_vec_size) + \"_\" + str(int(train_embedding)) \\\n",
        "    + \"_\" + str(num_nodes_lstm) + \"_\" + str(num_nodes_dense) \\\n",
        "    + \"_\" + str(num_epochs) + \".h5\"\n",
        "\n",
        "def make_model(input_dim : int,\n",
        "               embed_vec_size : int, nodes_lstm : int,\n",
        "               nodes_dense : int, dropout_lstm : float = 0.1,\n",
        "               dropout_lstm_recurrent : float = 0.1, dropout_dense : float = 0.5) -> Any:\n",
        "    \"\"\"\n",
        "    Creates a sequential Keras Model with given parameters\n",
        "    The embeddings have to be trained\n",
        "    \"\"\"\n",
        "    model = Sequential()\n",
        "\n",
        "    # Embedding layer\n",
        "    # num_code_words = number of unique words\n",
        "    # training_length we use the first num_pred words\n",
        "    model.add(\n",
        "        Embedding(input_dim = input_dim,\n",
        "                  input_length = None,\n",
        "                  output_dim = embed_vec_size,\n",
        "                  trainable = True,\n",
        "                  mask_zero = True))\n",
        "\n",
        "    # Recurrent layer\n",
        "    model.add(LSTM(nodes_lstm, return_sequences = False, \n",
        "                   dropout = dropout_lstm, recurrent_dropout = dropout_lstm_recurrent))\n",
        "\n",
        "    # Fully connected layer\n",
        "    model.add(Dense(nodes_dense, activation = 'relu'))\n",
        "\n",
        "    # Dropout for regularization\n",
        "    model.add(Dropout(0.5))\n",
        "\n",
        "    # Output layer\n",
        "    model.add(Dense(input_dim, activation = 'softmax'))\n",
        "    \n",
        "    return model\n",
        "\n",
        "\n",
        "\n",
        "def make_model_pretrained(input_dim : int,\n",
        "               embed_vec_size : int, embedding_matrix : np.array,\n",
        "               nodes_lstm : int, nodes_dense : int,\n",
        "               dropout_lstm : float = 0.1, dropout_lstm_recurrent : float = 0.1,\n",
        "               dropout_dense : float = 0.5) -> Any:\n",
        "    \"\"\"\n",
        "    Creates a sequential Keras Model with given parameters\n",
        "    Uses pre-trained embeddings\n",
        "    \"\"\"\n",
        "    model = Sequential()\n",
        "\n",
        "    # Allow for variable length input\n",
        "    model.add(Input(shape = (None,)))\n",
        "    \n",
        "    # Embedding layer\n",
        "    # num_code_words numb of unique words \n",
        "    # training_length we use the first num_pred words\n",
        "    model.add(\n",
        "        Embedding(input_dim = input_dim,\n",
        "                  input_length = None,\n",
        "                  output_dim = embed_vec_size,\n",
        "                  weights = embedding_matrix,\n",
        "                  trainable = False,\n",
        "                  mask_zero = True))\n",
        "\n",
        "    # Masking layer for pre-trained embeddings\n",
        "    model.add(Masking(mask_value=0.0))\n",
        "\n",
        "    # Recurrent layer\n",
        "    model.add(LSTM(nodes_lstm, return_sequences = False, \n",
        "                   dropout = dropout_lstm, recurrent_dropout = dropout_lstm_recurrent))\n",
        "\n",
        "    # Fully connected layer\n",
        "    model.add(Dense(nodes_dense, activation = 'relu'))\n",
        "\n",
        "    # Dropout for regularization\n",
        "    model.add(Dropout(0.5))\n",
        "\n",
        "    # Output layer\n",
        "    model.add(Dense(input_dim, activation = 'softmax'))\n",
        "    \n",
        "    return model\n",
        "\n",
        "    \n",
        "\n",
        "# Create Keras model\n",
        "if train_embedding:\n",
        "    model = make_model(num_code_words,\n",
        "                       embed_vec_size, num_nodes_lstm,\n",
        "                       num_nodes_dense)\n",
        "else:\n",
        "    #model = make_model_pretrained(num_pred, num_code_words,\n",
        "    #                              embed_vec_size, embedding_matrix,\n",
        "    #                              num_nodes_lstm, num_nodes_dense)\n",
        "    raise NotImplementedError\n",
        "\n",
        "# Compile the model\n",
        "model.compile(\n",
        "    optimizer=Adam(lr=0.001), loss='categorical_crossentropy', metrics=['accuracy'])"
      ]
    },
    {
      "cell_type": "code",
      "execution_count": null,
      "metadata": {
        "id": "0dqt5Jhq6VWn",
        "outputId": "45764775-af81-4d03-cdb3-ea06c5eb34a6"
      },
      "outputs": [
        {
          "name": "stdout",
          "output_type": "stream",
          "text": [
            "Model: \"sequential_1\"\n",
            "_________________________________________________________________\n",
            "Layer (type)                 Output Shape              Param #   \n",
            "=================================================================\n",
            "embedding_1 (Embedding)      (None, None, 200)         5518000   \n",
            "_________________________________________________________________\n",
            "lstm_1 (LSTM)                (None, 128)               168448    \n",
            "_________________________________________________________________\n",
            "dense_2 (Dense)              (None, 128)               16512     \n",
            "_________________________________________________________________\n",
            "dropout_1 (Dropout)          (None, 128)               0         \n",
            "_________________________________________________________________\n",
            "dense_3 (Dense)              (None, 27590)             3559110   \n",
            "=================================================================\n",
            "Total params: 9,262,070\n",
            "Trainable params: 9,262,070\n",
            "Non-trainable params: 0\n",
            "_________________________________________________________________\n"
          ]
        }
      ],
      "source": [
        "model.summary()"
      ]
    },
    {
      "cell_type": "markdown",
      "metadata": {
        "id": "Iw0mePNB6VWo"
      },
      "source": [
        "<a id=\"keras_train_rnn\"></a>\n",
        "### Training the neural network"
      ]
    },
    {
      "cell_type": "markdown",
      "metadata": {
        "id": "hXtsBOBA6VWo"
      },
      "source": [
        "#### Callbacks & Visualization"
      ]
    },
    {
      "cell_type": "code",
      "execution_count": null,
      "metadata": {
        "id": "h7c4W9qE6VWo"
      },
      "outputs": [],
      "source": [
        "from tensorflow.keras.callbacks import EarlyStopping, ModelCheckpoint, ReduceLROnPlateau, TensorBoard"
      ]
    },
    {
      "cell_type": "code",
      "execution_count": null,
      "metadata": {
        "id": "hFeVHJU_6VWp"
      },
      "outputs": [],
      "source": [
        "%load_ext tensorboard"
      ]
    },
    {
      "cell_type": "code",
      "execution_count": null,
      "metadata": {
        "id": "A1bwkTMh0_gO"
      },
      "outputs": [],
      "source": [
        "def make_callbacks(model_name, save=True):\n",
        "    \"\"\"\n",
        "    Creates callbacks for saving the model after each step\n",
        "    and stopping once learning process is finished\n",
        "    \"\"\"\n",
        "    callbacks = []\n",
        "    \n",
        "    stopping = EarlyStopping(monitor='loss', patience=5)\n",
        "    reduce = ReduceLROnPlateau(monitor = 'loss', factor = 0.2,\n",
        "                               patience = 5, min_lr = 0.0001)\n",
        "    callbacks.append(reduce)\n",
        "    \n",
        "    train_log_dir = os.path.join(\"logs\", \"training\")\n",
        "    board = TensorBoard(log_dir = train_log_dir)\n",
        "    callbacks.append(board)\n",
        "    \n",
        "    if save:\n",
        "        checkpoint = ModelCheckpoint(\n",
        "            os.path.join(model_dir, model_file),\n",
        "            save_best_only = True,\n",
        "            save_weights_only = False)\n",
        "        callbacks.append(checkpoint)\n",
        "        \n",
        "    return callbacks\n",
        "\n",
        "callbacks = make_callbacks(model_name)"
      ]
    },
    {
      "cell_type": "code",
      "execution_count": null,
      "metadata": {
        "id": "cssjTI_L6VWp"
      },
      "outputs": [],
      "source": [
        "# On windows use 'tensorboard.exe --logdir logs/training' instead\n",
        "%tensorboard --logdir train_log_dir"
      ]
    },
    {
      "cell_type": "markdown",
      "metadata": {
        "id": "c6C4cK906VWp"
      },
      "source": [
        "#### Visualization"
      ]
    },
    {
      "cell_type": "code",
      "source": [
        "import matplotlib.pyplot as plt\n",
        "logging.getLogger('matplotlib.font_manager').disabled = True\n"
      ],
      "metadata": {
        "id": "n-t1q9YE9RQ_"
      },
      "execution_count": 37,
      "outputs": []
    },
    {
      "cell_type": "code",
      "execution_count": null,
      "metadata": {
        "id": "q-OY4rVbEr_x"
      },
      "outputs": [],
      "source": [
        "# Train the model and save the 'best' version\n",
        "history = model.fit(X_train,  y_train,  batch_size = num_batch, \n",
        "          epochs = num_epochs, callbacks = callbacks,\n",
        "          validation_data = (X_valid, y_valid))"
      ]
    },
    {
      "cell_type": "code",
      "source": [
        "accuracy_val = history.history['val_accuracy']\n",
        "loss = history.history['loss']\n",
        "epochs = range(0,num_epochs)\n",
        "plt.plot(epochs, accuracy_val, 'g', label='Accuracy')\n",
        "plt.plot(epochs, loss, 'b', label='Loss')\n",
        "plt.title('Accuracy and Loss')\n",
        "plt.xlabel('Epochs')\n",
        "plt.ylabel('Loss')\n",
        "plt.legend()\n",
        "plt.show()"
      ],
      "metadata": {
        "colab": {
          "base_uri": "https://localhost:8080/",
          "height": 295
        },
        "id": "sINDg2zT8pPx",
        "outputId": "16f7b1db-394c-4c3f-99b1-7c28c3d3195e"
      },
      "execution_count": 39,
      "outputs": [
        {
          "output_type": "display_data",
          "data": {
            "image/png": "[encoded data removed]",
            "text/plain": [
              "<Figure size 432x288 with 1 Axes>"
            ]
          },
          "metadata": {
            "needs_background": "light"
          }
        }
      ]
    },
    {
      "cell_type": "markdown",
      "metadata": {
        "id": "iYhBYjY46VWq"
      },
      "source": [
        "<a id=\"keras_evaluate_rnn\"></a>\n",
        "### Evaluating the neural network"
      ]
    },
    {
      "cell_type": "code",
      "execution_count": null,
      "metadata": {
        "id": "bGnRo4Oq6VWq",
        "outputId": "72eac0d2-1d20-4c07-98da-b9d64d6ed3d5"
      },
      "outputs": [
        {
          "name": "stdout",
          "output_type": "stream",
          "text": [
            "Model: \"sequential_1\"\n",
            "_________________________________________________________________\n",
            "Layer (type)                 Output Shape              Param #   \n",
            "=================================================================\n",
            "embedding_1 (Embedding)      (None, None, 200)         5518000   \n",
            "_________________________________________________________________\n",
            "lstm_1 (LSTM)                (None, 128)               168448    \n",
            "_________________________________________________________________\n",
            "dense_2 (Dense)              (None, 128)               16512     \n",
            "_________________________________________________________________\n",
            "dropout_1 (Dropout)          (None, 128)               0         \n",
            "_________________________________________________________________\n",
            "dense_3 (Dense)              (None, 27590)             3559110   \n",
            "=================================================================\n",
            "Total params: 9,262,070\n",
            "Trainable params: 9,262,070\n",
            "Non-trainable params: 0\n",
            "_________________________________________________________________\n"
          ]
        }
      ],
      "source": [
        "# Loading with TF2-DirectML on GPU fails for me\n",
        "# so use CPU instead\n",
        "with device('/cpu:0'):\n",
        "    model = load_model(os.path.join(model_dir, model_file))\n",
        "\n",
        "model.summary()\n",
        "model.evaluate(X_valid, y_valid, batch_size=4096, verbose=1)"
      ]
    },
    {
      "cell_type": "markdown",
      "metadata": {
        "id": "cTvtVmrC6VWq"
      },
      "source": [
        "<a id=\"keras_predict_rnn\"></a>\n",
        "### Making Predictions"
      ]
    },
    {
      "cell_type": "code",
      "execution_count": null,
      "metadata": {
        "id": "3zlSXVnF6VWr"
      },
      "outputs": [],
      "source": [
        "from tensorflow.errors import UnimplementedError\n",
        "import warnings, time\n",
        "\n",
        "# Suppress log divde by 0 error\n",
        "# which can occur sometimes \n",
        "warnings.filterwarnings('ignore')"
      ]
    },
    {
      "cell_type": "code",
      "execution_count": null,
      "metadata": {
        "id": "V4IJ2Y9-6VWr"
      },
      "outputs": [],
      "source": [
        "# Load tokenizer\n",
        "model_name = \"model-baseline\"\n",
        "with open(os.path.join(tokenizer_dir, model_name + \".pkl\"), \"wb\") as f:\n",
        "    tokenizer = pickle.load(f)"
      ]
    },
    {
      "cell_type": "code",
      "execution_count": null,
      "metadata": {
        "id": "mFrooNce6VWr",
        "outputId": "a0b5572c-0450-4694-9019-9e71214347f5"
      },
      "outputs": [
        {
          "name": "stdout",
          "output_type": "stream",
          "text": [
            "Enter a sentence to complete: Our algorithm had a\n"
          ]
        },
        {
          "name": "stderr",
          "output_type": "stream",
          "text": [
            "[INFO] Main: Predicted sequence:\n",
            "Our algorithm had a\n",
            "cluster , clustering a set of genetic heterogeneity .\n"
          ]
        }
      ],
      "source": [
        "# Randomness factor (in range [0, 1]\n",
        "# 1.0 means no randomness\n",
        "rand = 0.9\n",
        "\n",
        "# Timeout for prediction in seconds\n",
        "timeout = 2\n",
        "\n",
        "# Fallback prediction length\n",
        "# in case end of sentence is not predicted in time\n",
        "pred_len = 10\n",
        "\n",
        "# Get input sequence\n",
        "s = [input(\"Enter a sentence to complete: \")]\n",
        "sequences = np.array(tokenizer.texts_to_sequences(s))\n",
        "len_orig = len(sequences)\n",
        "\n",
        "# Make prediction\n",
        "predictions = []\n",
        "elem = \"\"\n",
        "t_start = time.time()\n",
        "\n",
        "# Stop on punctuation\n",
        "end_symbols = ['.', '?', '!']\n",
        "end_tokens = []\n",
        "for t in end_symbols:\n",
        "    try:\n",
        "        t = tokenizer.word_index[t]\n",
        "        end_tokens.append(t)\n",
        "    except KeyError:\n",
        "        continue\n",
        "\n",
        "while elem not in end_tokens:\n",
        "    try:\n",
        "        pred = model.predict(sequences)[0]\n",
        "    except UnimplementedError:\n",
        "        log.warning(\"Input contains words that are not in vocabulary. Prediction will be inaccurate.\")\n",
        "    \n",
        "    # Introduce random factor to prevent getting\n",
        "    # stuck in prediction loop\n",
        "    pred = np.exp(np.log(pred) / rand)\n",
        "    \n",
        "    # Issue: https://github.com/numpy/numpy/issues/8317\n",
        "    # Solution: https://stackoverflow.com/a/53605818\n",
        "    pred = np.asarray(pred).astype('float64')\n",
        "    \n",
        "    # Softmax\n",
        "    pred = pred / pred.sum()\n",
        "    \n",
        "    # Pick one word from the\n",
        "    # generated probability distribution\n",
        "    probs = np.random.multinomial(1, pred, 1)[0]\n",
        "    elem = np.argmax(probs)\n",
        "    \n",
        "    # Separately save predictions\n",
        "    predictions.append(elem)\n",
        "    \n",
        "    # Append to current sequence for new input\n",
        "    sequences = np.append(sequences, [[elem]], axis=1)\n",
        "    \n",
        "    # Timeout and fallback\n",
        "    elapsed = time.time() - t_start\n",
        "    if elapsed >= timeout:\n",
        "        log.warning(f\"Could not predict end of sentence within {timeout}s. Falling back to predicting {pred_len} words.\")\n",
        "        sequences = sequences[:len_orig + pred_len]\n",
        "        predictions = predictions[:pred_len]\n",
        "        break\n",
        "\n",
        "# Convert model output to human-readable text\n",
        "predictions = tokenizer.sequences_to_texts([predictions])[0]\n",
        "\n",
        "log.info(f\"Predicted sequence:\\n{''.join(s[0])}\\n{''.join(predictions)}\")"
      ]
    }
  ],
  "metadata": {
    "colab": {
      "collapsed_sections": [],
      "name": "dataset.ipynb",
      "provenance": [],
      "include_colab_link": true
    },
    "kernelspec": {
      "display_name": "Python 3 (ipykernel)",
      "language": "python",
      "name": "python3"
    },
    "language_info": {
      "codemirror_mode": {
        "name": "ipython",
        "version": 3
      },
      "file_extension": ".py",
      "mimetype": "text/x-python",
      "name": "python",
      "nbconvert_exporter": "python",
      "pygments_lexer": "ipython3",
      "version": "3.7.8"
    }
  },
  "nbformat": 4,
  "nbformat_minor": 0
}