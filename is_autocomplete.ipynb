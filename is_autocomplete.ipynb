{
 "cells": [
  {
   "cell_type": "markdown",
   "metadata": {
    "colab_type": "text",
    "id": "view-in-github"
   },
   "source": [
    "<a href=\"https://colab.research.google.com/github/hacksaremeta/IS-Sentence-Completion/blob/model/is_autocomplete.ipynb\" target=\"_parent\"><img src=\"https://colab.research.google.com/assets/colab-badge.svg\" alt=\"Open In Colab\"/></a>"
   ]
  },
  {
   "cell_type": "markdown",
   "metadata": {
    "id": "ph1q75Fa-a4Z"
   },
   "source": [
    "# Sentence Completion (TUD IS Project)\n",
    "\n",
    "## Table of contents\n",
    "* 1 [Introduction (TODO)](#introduction)  \n",
    "* 2 [Training data preparation](#data_preparation)  \n",
    "    * 2.1 [DataManager class](#data_manager)  \n",
    "    * 2.2 [DataUtils class](#data_utils)  \n",
    "* 3 [Keras Implementation](#impl_keras)  \n",
    "    * 3.1 [Data preparation](#keras_preparation)  \n",
    "    * 3.2 [Creating a neural network](#keras_create_rnn)\n",
    "    * 3.3 [Training the neural network](#keras_train_rnn)\n",
    "    * 3.4 [Evaluating the neural network](#keras_evaluate_rnn)\n",
    "    * 3.5 [Making Predictions](#keras_predict_rnn)"
   ]
  },
  {
   "cell_type": "markdown",
   "metadata": {
    "id": "83a_WoQu-a4d"
   },
   "source": [
    "<a id=\"data_preparation\"></a>\n",
    "## Training data preparation\n",
    "\n",
    "In order to fetch data from PubMed and save it into different datasets as well as to load those datasets, some functionality is needed. This functionality will be provided by the [DataManager class](#data_manager).\n",
    "The loaded dataset then has to be prepared for training the neural network. This includes tokenization, label and feature extraction and encoding, all of which is handled by the [DataUtils class](#data_utils).\n",
    "TODO: more explanation / documentation ..."
   ]
  },
  {
   "cell_type": "markdown",
   "metadata": {
    "id": "k9ncf2XA-a4d"
   },
   "source": [
    "<a id=\"data_manager\"></a>\n",
    "### DataManager Class\n",
    "\n",
    "- Provides functionality regarding data including fetch, persistence and TF2/Keras preparation utils"
   ]
  },
  {
   "cell_type": "code",
   "execution_count": null,
   "metadata": {
    "colab": {
     "base_uri": "https://localhost:8080/"
    },
    "id": "fgNEorLo-gU_",
    "outputId": "ac24006c-ca3f-4b58-f9a9-833c62892435"
   },
   "outputs": [],
   "source": [
    "!pip install biopython"
   ]
  },
  {
   "cell_type": "code",
   "execution_count": 1,
   "metadata": {
    "id": "1-rHWaum-a4e"
   },
   "outputs": [],
   "source": [
    "import os, json, logging, string\n",
    "from Bio import Entrez, Medline"
   ]
  },
  {
   "cell_type": "code",
   "execution_count": 2,
   "metadata": {
    "id": "0ynhg2b0-a4f"
   },
   "outputs": [],
   "source": [
    "class DataManager():\n",
    "    \"\"\"Provides fetch, save and load functionality for datasets in json format\"\"\"\n",
    "    \n",
    "    def __init__(self, email, root_dir):\n",
    "        self.email = email\n",
    "        self.root_dir = root_dir\n",
    "        self.log = logging.getLogger(self.__class__.__name__)\n",
    "\n",
    "    def _exists_dataset(self, name):\n",
    "        \"\"\"Checks whether a dataset with the given name exists\"\"\"\n",
    "        if not os.path.isdir(self.root_dir):\n",
    "            return False\n",
    "            \n",
    "        for file in os.listdir(self.root_dir):\n",
    "            if file.endswith(\".json\"):\n",
    "                with open(os.path.join(self.root_dir, file), 'r') as f:\n",
    "                    content = json.load(f)\n",
    "                    if content[\"name\"] == name:\n",
    "                        return True\n",
    "        return False\n",
    "\n",
    "    def _fetch_papers(self, query : str, limit : int) -> 'list[dict]':\n",
    "        \"\"\"Retrieves data from PubMed\"\"\"\n",
    "        Entrez.email = self.email\n",
    "        record = Entrez.read(Entrez.esearch(db=\"pubmed\", term=query, retmax=limit))\n",
    "        idlist = record[\"IdList\"]\n",
    "        self.log.info(\"Found %d records for %s.\" % (len(idlist), query.strip()))\n",
    "        records = Medline.parse(Entrez.efetch(db=\"pubmed\", id=idlist, rettype=\"medline\", retmode = \"text\"))\n",
    "        return [r for r in records if \"AB\" in r]\n",
    "\n",
    "        \n",
    "    def create_dataset(self, query : str, name : str, limit=50, overwrite=False) -> None:\n",
    "        \"\"\"\n",
    "        Wraps other methods in this class\n",
    "        Creates a dataset from multiple queries\n",
    "        Does nothing if the dataset is already present (param overwrite)\n",
    "        Limits every query to <limit> results\n",
    "        \"\"\"\n",
    "        exists_dataset = self._exists_dataset(name)\n",
    "        if not exists_dataset or (exists_dataset and overwrite):\n",
    "            self.log.info(\"Dataset does not exist, fetching from PubMed...\")\n",
    "            q_data = dict()\n",
    "            q_data[\"query\"] = query\n",
    "            papers = self._fetch_papers(query, limit)\n",
    "            list_of_abstracts = [p[\"AB\"] for p in papers]\n",
    "            q_data[\"abstracts\"] = list_of_abstracts\n",
    "            res = {\"name\": name}\n",
    "            res[\"data\"] = list()\n",
    "            res[\"data\"].append(q_data)\n",
    "            self._save_dataset(res, name)\n",
    "        else:\n",
    "            self.log.info(\"Dataset already exists, skipping fetch\")\n",
    "\n",
    "    def _save_dataset(self, dataset: dict, name : str) -> None:\n",
    "        \"\"\"\n",
    "        Creates a file <name>.json in the dataset directory\n",
    "        For JSON file structure see below\n",
    "        Param dataset has a structure analogous to the JSON file\n",
    "        \"\"\"\n",
    "        if not os.path.isdir(self.root_dir):\n",
    "            os.makedirs(self.root_dir)\n",
    "\n",
    "        with open(os.path.join(self.root_dir, name + \".json\"), 'w') as f:\n",
    "            json.dump(dataset, f, indent=2)\n",
    "        \n",
    "    def load_full_dataset(self, name : str) -> 'list[str]':\n",
    "        \"\"\"\n",
    "        Finds the file that matches given <name> in JSON information,\n",
    "        parses it, loading all abstracts into a list (one string for each abstract)\n",
    "        and returns it (Error if dataset doesn't exist)\n",
    "        \"\"\"\n",
    "\n",
    "        if  not self._exists_dataset(name):\n",
    "            self.log.info(\"Dataset does not exist\")\n",
    "            \n",
    "        else:\n",
    "           with open(os.path.join(self.root_dir, name+'.json'), 'r') as file:\n",
    "                abstract_list=[]\n",
    "                jsonObject = json.load(file)\n",
    "                data_list= jsonObject['data']\n",
    "                for item in data_list:\n",
    "                    abstract_list.extend(item['abstracts'])\n",
    "                return abstract_list\n",
    "\n",
    "    def load_query_from_dataset(self, name : str, query : str) -> 'list[str]':\n",
    "        \"\"\"Like load_full_dataset but only loads abstracts for a single query\"\"\"\n",
    "\n",
    "\n",
    "        result = self._exists_dataset(name)\n",
    "\n",
    "        if  result:\n",
    "\n",
    "            with open(os.path.join(self.root_dir, name+'.json'), 'r') as file:\n",
    "\n",
    "                query_abstracts=[]\n",
    "                jsonObject = json.load(file)\n",
    "                data_list= jsonObject['data']\n",
    "\n",
    "                q_names = [x['query'] for x in data_list]\n",
    "\n",
    "                if query not in q_names:\n",
    "                    self.log.info(\"The Query that you are searching for,does not exist in the Dataset\")\n",
    "                else:\n",
    "\n",
    "                      for queries in data_list:\n",
    "                            if queries['query'] == query:\n",
    "                              query_abstracts.extend(queries['abstracts'])\n",
    "                              return query_abstracts\n",
    "\n",
    "        else:\n",
    "             self.log.info(\"Dataset does not exist\")\n",
    "\n",
    "\n",
    "    def remove_punctuation(self, name:str) -> 'list[str]':\n",
    "\n",
    "\n",
    "            abstracts_list= self.load_full_dataset(name)\n",
    "\n",
    "            for text in abstracts:\n",
    "\n",
    "                text = text.translate(str.maketrans('', '', string.punctuation))\n",
    "                abstracts_list.append(text)\n",
    "\n",
    "\n",
    "            return  abstracts_list"
   ]
  },
  {
   "cell_type": "markdown",
   "metadata": {
    "id": "5byX7fyc-a4h"
   },
   "source": [
    "<a id=\"data_utils\"></a>\n",
    "### DataUtils Class\n",
    "- Static class providing utility functions to prepare data for training"
   ]
  },
  {
   "cell_type": "code",
   "execution_count": 3,
   "metadata": {
    "id": "Vxsw3AMu-a4h"
   },
   "outputs": [],
   "source": [
    "import numpy as np\n",
    "from typing import Any\n",
    "from sklearn.model_selection import train_test_split"
   ]
  },
  {
   "cell_type": "code",
   "execution_count": 4,
   "metadata": {
    "id": "Gn4elnKa-a4i"
   },
   "outputs": [],
   "source": [
    "# TODO: unify method param types (all np.array instead of list)\n",
    "class DataUtils():\n",
    "    \"\"\"Provides utility functions for data preparation\"\"\"\n",
    "    \n",
    "    @staticmethod\n",
    "    def extract_features_and_labels(sequences : 'list[list[Any]]', train_len : int) -> 'tuple[list[Any], list[Any]]':\n",
    "        \"\"\"\n",
    "        Extracts features of size <train_len> from the sequences\n",
    "        Also extracts every (<train_len>+1)-th word as labels\n",
    "        Returns tuple(features, labels)\n",
    "        \"\"\"\n",
    "        features = []\n",
    "        labels = []\n",
    "        for s in sequences:\n",
    "            for i in range(train_len, len(s)):\n",
    "\n",
    "                # Extract <train_len> + 1 words and\n",
    "                # shift by 1 after each iteration\n",
    "                # That way it generates a lot of training\n",
    "                # samples from a relatively small amount of data\n",
    "                ex = s[i-train_len : i+1]\n",
    "\n",
    "                # First <train_len> words are features\n",
    "                features.append(ex[:-1])\n",
    "                \n",
    "                # (<train_len>+1)-th word is label\n",
    "                labels.append(ex[-1])\n",
    "        \n",
    "        return (features, labels)\n",
    "             \n",
    "    @staticmethod\n",
    "    def encode_data(labels : 'list[Any]', num_code_words : int) -> np.array:\n",
    "        \"\"\"\n",
    "        One-hot encode labels using numpy to\n",
    "        improve the training speed of the network\n",
    "        \"\"\"\n",
    "\n",
    "        # Use numpy for better compatibility and performance\n",
    "        # Data type: 8bit integers for binary numbers (0, 1)\n",
    "        # Could be optimized in space by using single bits instead\n",
    "        # But that adds overhead in calculation (tradeoff time - space)\n",
    "        # Since we want improved training speed we just use\n",
    "        # numpys smallest data type byte/uint8 here\n",
    "        labels_encoded = np.zeros((len(labels), num_code_words), dtype=np.uint8)\n",
    "\n",
    "        # One-hot encode\n",
    "        for i, word in enumerate(labels):\n",
    "            labels_encoded[i, word] = 1\n",
    "            \n",
    "        return labels_encoded\n",
    "    \n",
    "    # Uses Scikit-learn here; maybe replace with own method in the future\n",
    "    @staticmethod\n",
    "    def split_data(features: np.array, labels: np.array, _test_size=0.2) -> Any:\n",
    "        \"\"\"\n",
    "        Splits features and labels into training and validation data sets\n",
    "        Returns: (features_training, features_validation, labels_training, labels_validation)\n",
    "        \"\"\"\n",
    "        return train_test_split(features, labels, test_size=_test_size)"
   ]
  },
  {
   "cell_type": "markdown",
   "metadata": {
    "id": "7DJfRQZSgWEU"
   },
   "source": [
    "<a id=\"impl_keras\"></a>\n",
    "## Keras Implementation (LSTM RNN)  \n",
    "For the general methodology regarding Keras neural networks see [Tensorflow Docs: Text generation with an RNN](https://www.tensorflow.org/text/tutorials/text_generation), [Sanchit Tanwar: Building our first neural network in keras](https://towardsdatascience.com/building-our-first-neural-network-in-keras-bdc8abbc17f5) and [Will Koehrsen: Recurrent Neural Networks by Example in Python](https://towardsdatascience.com/recurrent-neural-networks-by-example-in-python-ffd204f99470).\n",
    "In this case the sequences given are words instead of characters and the RNN predicts the next word.\n",
    "Therefore we use the Keras Tokenizer to convert sentences to vectors of word representatives (integers).\n",
    "After tokenization each 'word' will be converted to a feature vector using Keras pre-trained embeddings.\n",
    "Then we train the network by giving it n 'words' (features) from the PubMed training data and having it predict the (n+1)-th word (label) in the sequence.\n",
    "The predicted word is then compared to the actual word present in the training data and back-propagation is used to tweak the network layers."
   ]
  },
  {
   "cell_type": "markdown",
   "metadata": {
    "id": "zHgVW_Ut-a4j"
   },
   "source": [
    "<a id=\"keras_preparation\"></a>\n",
    "### Data preparation"
   ]
  },
  {
   "cell_type": "code",
   "execution_count": 5,
   "metadata": {
    "id": "XLfhk0cS-a4k",
    "scrolled": true
   },
   "outputs": [],
   "source": [
    "from tensorflow import device\n",
    "from tensorflow.keras import Sequential\n",
    "from tensorflow.keras.models import load_model\n",
    "from tensorflow.keras.layers import Embedding, LSTM, Masking, Dense, Dropout, Flatten, Input\n",
    "from tensorflow.keras.preprocessing.text import Tokenizer\n",
    "from tensorflow.keras.callbacks import EarlyStopping, ModelCheckpoint"
   ]
  },
  {
   "cell_type": "code",
   "execution_count": 6,
   "metadata": {
    "colab": {
     "base_uri": "https://localhost:8080/"
    },
    "id": "H_DQrwTagWEY",
    "outputId": "ab13ecdb-60aa-48a7-c92a-1c2fcfcaee09"
   },
   "outputs": [
    {
     "name": "stderr",
     "output_type": "stream",
     "text": [
      "[INFO] DataManager: Dataset already exists, skipping fetch\n",
      "[DEBUG] Main: First extracted abstract: The rapid emergence of novel psychoactive substances (NPS) poses new challenges and requirements for forensic testing/analysis techniques. This paper aims to explore the application of unsupervised clustering of NPS compounds' infrared spectra. Two statistical measures, Pearson and Spearman, were used to quantify the spectral similarity and to generate similarity matrices for hierarchical clustering. The correspondence of spectral similarity clustering trees to the commonly used structural/pharmacological categorization was evaluated and compared to the clustering generated using 2D/3D molecular fingerprints. Hybrid model feature selections were applied using different filter-based feature ranking algorithms developed for unsupervised clustering tasks. Since Spearman tends to overestimate the spectral similarity based on the overall pattern of the full spectrum, the clustering result shows the highest degree of improvement from having the nondiscriminative features removed. The loading plots of the first two principal components of the optimal feature subsets confirmed that the most important vibrational bands contributing to the clustering of NPS compounds were selected using non-negative discriminative feature selection (NDFS) algorithms.\n",
      "[DEBUG] Main: First tokenized sequence: [13, 1009, 4564, 2, 75, 12442, 6692, 19652, 3490, 58, 593, 3, 1992, 9, 4785, 19653, 1486, 59, 87, 659, 4, 454, 1, 270, 2, 124, 7, 2, 7775, 19654, 8607, 4079, 1038, 278, 2991, 2507, 3, 19655, 37, 38, 4, 1842, 1, 181, 95, 3, 4, 513, 95, 693, 9, 156, 312, 13, 4223, 2, 181, 95, 7, 1172, 4, 1, 726, 38, 19656, 6289, 41, 237, 3, 80, 4, 1, 7, 378, 33, 19657, 210, 8608, 6290, 46, 92, 8609, 37, 103, 33, 40, 10707, 92, 2083, 39, 126, 9, 124, 7, 2458, 951, 5270, 2992, 4, 8610, 1, 181, 95, 31, 11, 1, 694, 375, 2, 1, 1120, 10708, 1, 7, 248, 469, 1, 816, 701, 2, 634, 21, 1334, 1, 12443, 77, 19658, 13, 5608, 3390, 2, 1, 146, 66, 727, 586, 2, 1, 188, 92, 1369, 1445, 14, 1, 83, 123, 12444, 3491, 1993, 4, 1, 7, 2, 7775, 2343, 37, 436, 33, 2604, 1025, 92, 132, 19659, 483]\n",
      "[DEBUG] Main: First extracted feature: The rapid emergence of novel psychoactive substances (NPS) poses new challenges and requirements for forensic testing/analysis techniques. This paper aims [13, 1009, 4564, 2, 75, 12442, 6692, 19652, 3490, 58, 593, 3, 1992, 9, 4785, 19653, 1486, 59, 87, 659]\n",
      "[DEBUG] Main: First extracted label: to [4]\n",
      "[DEBUG] Main: First one-hot encoded label: [0 ... 1 (at index 4) ... 0]\n",
      "[INFO] Main: Loaded 561322 sequences with an encoded length of ~4381 bytes per sequence\n",
      "[INFO] Main: Size of training data: 449057 sequences\n",
      "[INFO] Main: Size of validation data: 112265 sequences\n",
      "[INFO] Main: Training data preparation finished\n"
     ]
    }
   ],
   "source": [
    "if __name__ == \"__main__\":\n",
    "    # Init logging\n",
    "    logging.basicConfig(level=logging.DEBUG, format='[%(levelname)s] %(name)s: %(message)s')\n",
    "    log = logging.getLogger(\"Main\")\n",
    "\n",
    "    # Create DataManager in 'res/datasets' folder\n",
    "    data_folder = os.path.join(\"res\", \"datasets\")\n",
    "    dman = DataManager(\"mymail@example.com\", data_folder)\n",
    "\n",
    "\n",
    "    query = \"clustering[ti] algorithm\"\n",
    "    records = 1500\n",
    "    dataset_name = f\"{query} Dataset {records}\"\n",
    "    #query = [\"RNA\", \"mRNA\", \"tRNA\"]\n",
    "    #dataset_name = f\"RNA Dataset\"\n",
    "\n",
    "    # Gather maximum of 100 abstracts for each query\n",
    "    # I would suggest around 5 - 20 abstracts in total for the small data sets\n",
    "    # and maybe 500 - 5000 for the final ones but we'll have to test\n",
    "    # since that depends on how long it takes to train the network\n",
    "    # This only queries PubMed if data if the data is not already present\n",
    "    dman.create_dataset(query, dataset_name, records, overwrite=False)\n",
    "\n",
    "    # Load the dataset\n",
    "    abstracts = dman.load_full_dataset(dataset_name)\n",
    "    abstracts_mrna = dman.load_query_from_dataset(dataset_name, query)\n",
    "\n",
    "    ab = dman.remove_punctuation(dataset_name)\n",
    "\n",
    "    assert(len(ab) > 0)\n",
    "    log.debug(f\"First extracted abstract: {ab[0]}\")\n",
    "\n",
    "    # Tokenize abstracts\n",
    "    # See https://www.tensorflow.org/api_docs/python/tf/keras/preprocessing/text/Tokenizer\n",
    "    # Filters slightly modified (comp. to docs) to keep punctuation\n",
    "    # Lowercase has to be used for pre-trained embeddings (filters='#$%&()*+-,<=>@[\\\\]^_`{|}~\\t\\n')\n",
    "    tokenizer = Tokenizer(\n",
    "        num_words=None, \n",
    "        filters='!\"%;[\\\\]^_`{|}~\\t\\n',\n",
    "        lower = False, split = ' '\n",
    "    )\n",
    "\n",
    "    tokenizer.fit_on_texts(ab)\n",
    "\n",
    "    # Generates list of lists of integers\n",
    "    # Can be reversed with the sequences_to_texts() function of the tokenizer\n",
    "    sequences = tokenizer.texts_to_sequences(ab)\n",
    "\n",
    "    assert(len(sequences) > 0)\n",
    "    log.debug(f\"First tokenized sequence: {sequences[0]}\")\n",
    "\n",
    "    # Prepare data for input to RNN\n",
    "    # Extract features and labels\n",
    "    # Number of words before prediction: num_pred\n",
    "    num_pred = 20\n",
    "    features, labels = DataUtils.extract_features_and_labels(sequences, num_pred)\n",
    "\n",
    "    assert(len(features) > 0 and len(labels) > 0)\n",
    "    log.debug(f\"First extracted feature: {tokenizer.sequences_to_texts(features)[0]} {features[0]}\")\n",
    "    log.debug(f\"First extracted label: {tokenizer.index_word[labels[0]]} [{labels[0]}]\")\n",
    "\n",
    "    # One-hot encode data for improved training performance\n",
    "    num_code_words = len(tokenizer.index_word) + 1\n",
    "    labels_encoded = DataUtils.encode_data(labels, num_code_words)\n",
    "\n",
    "    assert(len(labels_encoded) > 0)\n",
    "    log.debug(f\"First one-hot encoded label: [0 ... {labels_encoded[0][labels[0]]} (at index {labels[0]}) ... 0]\")\n",
    "\n",
    "    # Final log for prepared data\n",
    "    log.info(f\"Loaded {labels_encoded.shape[0]} sequences\"\n",
    "             f\" with an encoded length of ~{labels_encoded.shape[1] // 8} bytes per sequence\")\n",
    "    \n",
    "    # Convert features to numpy array\n",
    "    # This is necessary for input to the RNN\n",
    "    features = np.array(features)\n",
    "    \n",
    "    # Split dataset into training and validation sets\n",
    "    features_training, features_validation, labels_training, labels_validation = \\\n",
    "    DataUtils.split_data(features, labels_encoded, 0.2)\n",
    "    \n",
    "    assert(len(features_training) > 0 and len(features_validation) > 0 and\n",
    "           len(labels_training) > 0 and len(labels_validation) > 0)\n",
    "    log.info(f\"Size of training data: {features_training.shape[0]} sequences\")\n",
    "    log.info(f\"Size of validation data: {features_validation.shape[0]} sequences\")\n",
    "    \n",
    "    log.info(\"Training data preparation finished\")"
   ]
  },
  {
   "cell_type": "markdown",
   "metadata": {
    "id": "lNnGtqZq-a4l"
   },
   "source": [
    "<a id=\"keras_create_rnn\"></a>\n",
    "### Creating the neural network"
   ]
  },
  {
   "cell_type": "code",
   "execution_count": 8,
   "metadata": {
    "id": "VRHKm03T-a4l"
   },
   "outputs": [],
   "source": [
    "# Network params\n",
    "train_embedding = True\n",
    "embed_vec_size = 200\n",
    "\n",
    "num_nodes_lstm = 64\n",
    "num_nodes_dense = 128\n",
    "\n",
    "# Training params\n",
    "num_batch = 2048\n",
    "num_epochs = 100\n",
    "\n",
    "X_train = features_training\n",
    "y_train = labels_training\n",
    "X_valid = features_validation\n",
    "y_valid = labels_validation\n",
    "\n",
    "# Model save params\n",
    "model_name = \"model-baseline\"\n",
    "\n",
    "# Create model directory if necessary\n",
    "model_dir = os.path.join(\"res\", \"models\")\n",
    "if not os.path.isdir(model_dir):\n",
    "    os.makedirs(model_dir)\n",
    "\n",
    "# Filename semantics:\n",
    "# <model_name>_<train_size>_<output_dim>_<selftrained_embeddings>_<num_nodes_lstm>_<num_nodes_dense>_<num_epochs>.h5\n",
    "model_file = model_name + \"_\" + str(X_train.shape[0]) \\\n",
    "    + \"_\" + str(embed_vec_size) + \"_\" + str(int(train_embedding)) \\\n",
    "    + \"_\" + str(num_nodes_lstm) + \"_\" + str(num_nodes_dense) \\\n",
    "    + \"_\" + str(num_epochs) + \".h5\"\n",
    "\n",
    "def make_model(input_dim : int,\n",
    "               embed_vec_size : int, nodes_lstm : int,\n",
    "               nodes_dense : int, dropout_lstm : float = 0.1,\n",
    "               dropout_lstm_recurrent : float = 0.1, dropout_dense : float = 0.5) -> Any:\n",
    "    \"\"\"\n",
    "    Creates a sequential Keras Model with given parameters\n",
    "    The embeddings have to be trained\n",
    "    \"\"\"\n",
    "    model = Sequential()\n",
    "\n",
    "    # Embedding layer\n",
    "    # num_code_words = number of unique words\n",
    "    # training_length we use the first num_pred words\n",
    "    model.add(\n",
    "        Embedding(input_dim = input_dim,\n",
    "                  input_length = None,\n",
    "                  output_dim = embed_vec_size,\n",
    "                  trainable = True,\n",
    "                  mask_zero = True))\n",
    "\n",
    "    # Recurrent layer\n",
    "    model.add(LSTM(nodes_lstm, return_sequences = False, \n",
    "                   dropout = dropout_lstm, recurrent_dropout = dropout_lstm_recurrent))\n",
    "\n",
    "    # Fully connected layer\n",
    "    model.add(Dense(nodes_dense, activation = 'relu'))\n",
    "\n",
    "    # Dropout for regularization\n",
    "    model.add(Dropout(0.5))\n",
    "\n",
    "    # Output layer\n",
    "    model.add(Dense(input_dim, activation = 'softmax'))\n",
    "    \n",
    "    return model\n",
    "\n",
    "\n",
    "\n",
    "def make_model_pretrained(input_dim : int,\n",
    "               embed_vec_size : int, embedding_matrix : np.array,\n",
    "               nodes_lstm : int, nodes_dense : int,\n",
    "               dropout_lstm : float = 0.1, dropout_lstm_recurrent : float = 0.1,\n",
    "               dropout_dense : float = 0.5) -> Any:\n",
    "    \"\"\"\n",
    "    Creates a sequential Keras Model with given parameters\n",
    "    Uses pre-trained embeddings\n",
    "    \"\"\"\n",
    "    model = Sequential()\n",
    "\n",
    "    # Allow for variable length input\n",
    "    model.add(Input(shape = (None,)))\n",
    "    \n",
    "    # Embedding layer\n",
    "    # num_code_words numb of unique words \n",
    "    # training_length we use the first num_pred words\n",
    "    model.add(\n",
    "        Embedding(input_dim = input_dim,\n",
    "                  input_length = None,\n",
    "                  output_dim = embed_vec_size,\n",
    "                  weights = embedding_matrix,\n",
    "                  trainable = False,\n",
    "                  mask_zero = True))\n",
    "\n",
    "    # Masking layer for pre-trained embeddings\n",
    "    model.add(Masking(mask_value=0.0))\n",
    "\n",
    "    # Recurrent layer\n",
    "    model.add(LSTM(nodes_lstm, return_sequences = False, \n",
    "                   dropout = dropout_lstm, recurrent_dropout = dropout_lstm_recurrent))\n",
    "\n",
    "    # Fully connected layer\n",
    "    model.add(Dense(nodes_dense, activation = 'relu'))\n",
    "\n",
    "    # Dropout for regularization\n",
    "    model.add(Dropout(0.5))\n",
    "\n",
    "    # Output layer\n",
    "    model.add(Dense(input_dim, activation = 'softmax'))\n",
    "    \n",
    "    return model\n",
    "\n",
    "    \n",
    "\n",
    "# Create Keras model\n",
    "if train_embedding:\n",
    "    model = make_model(num_code_words,\n",
    "                       embed_vec_size, num_nodes_lstm,\n",
    "                       num_nodes_dense)\n",
    "else:\n",
    "    #model = make_model_pretrained(num_pred, num_code_words,\n",
    "    #                              embed_vec_size, embedding_matrix,\n",
    "    #                              num_nodes_lstm, num_nodes_dense)\n",
    "    raise NotImplementedError\n",
    "\n",
    "# Compile the model\n",
    "model.compile(\n",
    "    optimizer='adam', loss='categorical_crossentropy', metrics=['accuracy'])"
   ]
  },
  {
   "cell_type": "code",
   "execution_count": 9,
   "metadata": {},
   "outputs": [
    {
     "name": "stdout",
     "output_type": "stream",
     "text": [
      "Model: \"sequential_1\"\n",
      "_________________________________________________________________\n",
      "Layer (type)                 Output Shape              Param #   \n",
      "=================================================================\n",
      "embedding_1 (Embedding)      (None, None, 200)         7011000   \n",
      "_________________________________________________________________\n",
      "lstm_1 (LSTM)                (None, 64)                67840     \n",
      "_________________________________________________________________\n",
      "dense_2 (Dense)              (None, 128)               8320      \n",
      "_________________________________________________________________\n",
      "dropout_1 (Dropout)          (None, 128)               0         \n",
      "_________________________________________________________________\n",
      "dense_3 (Dense)              (None, 35055)             4522095   \n",
      "=================================================================\n",
      "Total params: 11,609,255\n",
      "Trainable params: 11,609,255\n",
      "Non-trainable params: 0\n",
      "_________________________________________________________________\n"
     ]
    }
   ],
   "source": [
    "model.summary()"
   ]
  },
  {
   "cell_type": "markdown",
   "metadata": {},
   "source": [
    "<a id=\"keras_train_rnn\"></a>\n",
    "### Training the neural network"
   ]
  },
  {
   "cell_type": "code",
   "execution_count": 10,
   "metadata": {
    "id": "A1bwkTMh0_gO"
   },
   "outputs": [],
   "source": [
    "def make_callbacks(model_name, save=True):\n",
    "    \"\"\"\n",
    "    Creates callbacks for saving the model after each step\n",
    "    and stopping once learning process is finished\n",
    "    \"\"\"\n",
    "    callbacks = [EarlyStopping(monitor='val_loss', patience=5)]\n",
    "    \n",
    "    if save:\n",
    "        callbacks.append(\n",
    "            ModelCheckpoint(\n",
    "                os.path.join(model_dir, model_file),\n",
    "                save_best_only = True,\n",
    "                save_weights_only = False))\n",
    "    return callbacks\n",
    "\n",
    "callbacks = make_callbacks(model_name)"
   ]
  },
  {
   "cell_type": "code",
   "execution_count": 11,
   "metadata": {
    "colab": {
     "base_uri": "https://localhost:8080/"
    },
    "id": "q-OY4rVbEr_x",
    "outputId": "5cb776a8-2bc8-4f90-85ee-7f40f57da897"
   },
   "outputs": [
    {
     "name": "stdout",
     "output_type": "stream",
     "text": [
      "Train on 449057 samples, validate on 112265 samples\n",
      "Epoch 1/100\n",
      "449057/449057 [==============================] - 77s 172us/sample - loss: 7.7389 - acc: 0.0513 - val_loss: 7.2741 - val_acc: 0.0552\n",
      "Epoch 2/100\n",
      "449057/449057 [==============================] - 68s 152us/sample - loss: 7.2282 - acc: 0.0600 - val_loss: 7.1983 - val_acc: 0.0708\n",
      "Epoch 3/100\n",
      "449057/449057 [==============================] - 69s 153us/sample - loss: 7.0346 - acc: 0.0803 - val_loss: 7.0058 - val_acc: 0.0866\n",
      "Epoch 4/100\n",
      "449057/449057 [==============================] - 68s 152us/sample - loss: 6.8390 - acc: 0.0983 - val_loss: 6.8191 - val_acc: 0.1133\n",
      "Epoch 5/100\n",
      "449057/449057 [==============================] - 67s 150us/sample - loss: 6.5885 - acc: 0.1212 - val_loss: 6.6143 - val_acc: 0.1295\n",
      "Epoch 6/100\n",
      "449057/449057 [==============================] - 66s 147us/sample - loss: 6.3787 - acc: 0.1381 - val_loss: 6.4977 - val_acc: 0.1443\n",
      "Epoch 7/100\n",
      "449057/449057 [==============================] - 66s 147us/sample - loss: 6.2251 - acc: 0.1494 - val_loss: 6.4196 - val_acc: 0.1528\n",
      "Epoch 8/100\n",
      "449057/449057 [==============================] - 66s 147us/sample - loss: 6.0974 - acc: 0.1580 - val_loss: 6.3497 - val_acc: 0.1574\n",
      "Epoch 9/100\n",
      "449057/449057 [==============================] - 66s 147us/sample - loss: 5.9808 - acc: 0.1647 - val_loss: 6.2879 - val_acc: 0.1623\n",
      "Epoch 10/100\n",
      "449057/449057 [==============================] - 66s 146us/sample - loss: 5.8705 - acc: 0.1706 - val_loss: 6.2391 - val_acc: 0.1670\n",
      "Epoch 11/100\n",
      "449057/449057 [==============================] - 66s 147us/sample - loss: 5.7629 - acc: 0.1765 - val_loss: 6.1938 - val_acc: 0.1704\n",
      "Epoch 12/100\n",
      "449057/449057 [==============================] - 65s 146us/sample - loss: 5.6587 - acc: 0.1822 - val_loss: 6.1450 - val_acc: 0.1737\n",
      "Epoch 13/100\n",
      "449057/449057 [==============================] - 65s 146us/sample - loss: 5.5632 - acc: 0.1868 - val_loss: 6.1115 - val_acc: 0.1771\n",
      "Epoch 14/100\n",
      "449057/449057 [==============================] - 65s 146us/sample - loss: 5.4677 - acc: 0.1909 - val_loss: 6.0898 - val_acc: 0.1814\n",
      "Epoch 15/100\n",
      "449057/449057 [==============================] - 66s 146us/sample - loss: 5.3792 - acc: 0.1947 - val_loss: 6.0612 - val_acc: 0.1839\n",
      "Epoch 16/100\n",
      "449057/449057 [==============================] - 66s 146us/sample - loss: 5.2933 - acc: 0.1989 - val_loss: 6.0418 - val_acc: 0.1865\n",
      "Epoch 17/100\n",
      "449057/449057 [==============================] - 65s 145us/sample - loss: 5.2111 - acc: 0.2025 - val_loss: 6.0268 - val_acc: 0.1885\n",
      "Epoch 18/100\n",
      "449057/449057 [==============================] - 65s 144us/sample - loss: 5.1277 - acc: 0.2061 - val_loss: 6.0449 - val_acc: 0.1902\n",
      "Epoch 19/100\n",
      "449057/449057 [==============================] - 67s 150us/sample - loss: 5.0519 - acc: 0.2096 - val_loss: 6.0141 - val_acc: 0.1925\n",
      "Epoch 20/100\n",
      "449057/449057 [==============================] - 67s 148us/sample - loss: 4.9760 - acc: 0.2133 - val_loss: 6.0191 - val_acc: 0.1942\n",
      "Epoch 21/100\n",
      "449057/449057 [==============================] - 67s 149us/sample - loss: 4.9056 - acc: 0.2164 - val_loss: 6.0265 - val_acc: 0.1964\n",
      "Epoch 22/100\n",
      "449057/449057 [==============================] - 67s 149us/sample - loss: 4.8341 - acc: 0.2195 - val_loss: 6.0262 - val_acc: 0.1984\n",
      "Epoch 23/100\n",
      "449057/449057 [==============================] - 67s 149us/sample - loss: 4.7664 - acc: 0.2229 - val_loss: 6.0598 - val_acc: 0.1993\n",
      "Epoch 24/100\n",
      "449057/449057 [==============================] - 67s 149us/sample - loss: 4.6994 - acc: 0.2261 - val_loss: 6.0435 - val_acc: 0.2012\n"
     ]
    }
   ],
   "source": [
    "# Train the model and save the 'best' version\n",
    "history = model.fit(X_train,  y_train,  batch_size = num_batch, \n",
    "          epochs = num_epochs, callbacks = callbacks,\n",
    "          validation_data = (X_valid, y_valid))"
   ]
  },
  {
   "cell_type": "markdown",
   "metadata": {},
   "source": [
    "<a id=\"keras_evaluate_rnn\"></a>\n",
    "### Evaluating the neural network"
   ]
  },
  {
   "cell_type": "code",
   "execution_count": 63,
   "metadata": {},
   "outputs": [
    {
     "name": "stdout",
     "output_type": "stream",
     "text": [
      "Model: \"sequential_11\"\n",
      "_________________________________________________________________\n",
      "Layer (type)                 Output Shape              Param #   \n",
      "=================================================================\n",
      "embedding_11 (Embedding)     (None, None, 250)         6842750   \n",
      "_________________________________________________________________\n",
      "lstm_10 (LSTM)               (None, 64)                80640     \n",
      "_________________________________________________________________\n",
      "dense_20 (Dense)             (None, 128)               8320      \n",
      "_________________________________________________________________\n",
      "dropout_10 (Dropout)         (None, 128)               0         \n",
      "_________________________________________________________________\n",
      "dense_21 (Dense)             (None, 27371)             3530859   \n",
      "=================================================================\n",
      "Total params: 10,462,569\n",
      "Trainable params: 10,462,569\n",
      "Non-trainable params: 0\n",
      "_________________________________________________________________\n"
     ]
    }
   ],
   "source": [
    "# Loading with TF2-DirectML on GPU fails for me\n",
    "# so use CPU instead\n",
    "with device('/cpu:0'):\n",
    "    model = load_model(os.path.join(model_dir, model_file))\n",
    "\n",
    "model.summary()\n",
    "#model.evaluate(X_valid, y_valid, batch_size=4096, verbose=1)"
   ]
  },
  {
   "cell_type": "markdown",
   "metadata": {},
   "source": [
    "<a id=\"keras_predict_rnn\"></a>\n",
    "### Making Predictions"
   ]
  },
  {
   "cell_type": "code",
   "execution_count": 24,
   "metadata": {},
   "outputs": [
    {
     "name": "stdout",
     "output_type": "stream",
     "text": [
      "Enter a sentence to complete: Our research revealed that in order to improve the sequence of\n"
     ]
    },
    {
     "name": "stderr",
     "output_type": "stream",
     "text": [
      "[INFO] Main: Predicted sequence:\n",
      "Our research revealed that in order to improve the sequence of\n",
      "multiple numbers and ones Therefore so it can be applied to the benchmark data. The proposed approach has been widely used to analyze the original graph representations and the datasets\n"
     ]
    }
   ],
   "source": [
    "# Number of words to predict\n",
    "len_pred = 30\n",
    "\n",
    "# Randomness factor (in range [0, 1]\n",
    "# 1.0 means no randomness\n",
    "rand = 0.8\n",
    "\n",
    "s = [input(\"Enter a sentence to complete: \")]\n",
    "sequences = np.array(tokenizer.texts_to_sequences(s))\n",
    "\n",
    "predictions = []\n",
    "for _ in range(0, len_pred):\n",
    "    pred = model.predict(sequences)[0]\n",
    "    \n",
    "    # Introduce random factor to prevent getting\n",
    "    # stuck in prediction loop\n",
    "    pred = np.exp(np.log(pred) / rand)\n",
    "    \n",
    "    # Issue: https://github.com/numpy/numpy/issues/8317\n",
    "    # Solution: https://stackoverflow.com/a/53605818\n",
    "    pred = np.asarray(pred).astype('float64')\n",
    "    \n",
    "    # Softmax\n",
    "    pred = pred / pred.sum()\n",
    "    \n",
    "    # Pick one word from the\n",
    "    # generated probability distribution\n",
    "    probs = np.random.multinomial(1, pred, 1)[0]\n",
    "    elem = np.argmax(probs)\n",
    "    \n",
    "    # Separately save predictions\n",
    "    predictions.append(elem)\n",
    "    \n",
    "    # Append to current sequence for new input\n",
    "    sequences = np.append(sequences, [[elem]], axis=1)\n",
    "\n",
    "# Convert model output to human-readable text\n",
    "predictions = tokenizer.sequences_to_texts([predictions])[0]\n",
    "\n",
    "log.info(f\"Predicted sequence:\\n{''.join(s[0])}\\n{''.join(predictions)}\")"
   ]
  },
  {
   "cell_type": "code",
   "execution_count": null,
   "metadata": {},
   "outputs": [],
   "source": []
  },
  {
   "cell_type": "code",
   "execution_count": null,
   "metadata": {},
   "outputs": [],
   "source": []
  }
 ],
 "metadata": {
  "colab": {
   "collapsed_sections": [],
   "include_colab_link": true,
   "name": "dataset.ipynb",
   "provenance": []
  },
  "kernelspec": {
   "display_name": "Python 3 (ipykernel)",
   "language": "python",
   "name": "python3"
  },
  "language_info": {
   "codemirror_mode": {
    "name": "ipython",
    "version": 3
   },
   "file_extension": ".py",
   "mimetype": "text/x-python",
   "name": "python",
   "nbconvert_exporter": "python",
   "pygments_lexer": "ipython3",
   "version": "3.7.8"
  }
 },
 "nbformat": 4,
 "nbformat_minor": 1
}
