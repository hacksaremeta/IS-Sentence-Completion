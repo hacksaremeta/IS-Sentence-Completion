{
  "cells": [
    {
      "cell_type": "markdown",
      "metadata": {
        "id": "view-in-github",
        "colab_type": "text"
      },
      "source": [
        "<a href=\"https://colab.research.google.com/github/hacksaremeta/IS-Sentence-Completion/blob/model/is_autocomplete.ipynb\" target=\"_parent\"><img src=\"https://colab.research.google.com/assets/colab-badge.svg\" alt=\"Open In Colab\"/></a>"
      ]
    },
    {
      "cell_type": "markdown",
      "metadata": {
        "id": "ph1q75Fa-a4Z"
      },
      "source": [
        "# Sentence Completion (TUD IS Project)\n",
        "\n",
        "<a href=\"https://colab.research.google.com/github/hacksaremeta/IS-Sentence-Completion/blob/datasets/is_autocomplete.ipynb\" target=\"_parent\"><img src=\"https://colab.research.google.com/assets/colab-badge.svg\" alt=\"Open In Colab\"/></a>\n",
        "\n",
        "## Table of contents\n",
        "* 1 [Introduction (TODO)](#introduction)  \n",
        "* 2 [Training data preparation](#data_preparation)  \n",
        "    * 2.1 [DataManager class](#data_manager)  \n",
        "    * 2.2 [DataUtils class](#data_utils)  \n",
        "* 3 [Keras Implementation](#impl_keras)  \n",
        "    * 3.1 [Data preparation](#keras_preparation)  \n",
        "    * 3.2 [The neural network](#keras_rnn)  "
      ]
    },
    {
      "cell_type": "markdown",
      "metadata": {
        "id": "83a_WoQu-a4d"
      },
      "source": [
        "<a id=\"data_preparation\"></a>\n",
        "## Training data preparation\n",
        "\n",
        "In order to fetch data from PubMed and save it into different datasets as well as to load those datasets, some functionality is needed. This functionality will be provided by the [DataManager class](#data_manager).\n",
        "The loaded dataset then has to be prepared for training the neural network. This includes tokenization, label and feature extraction and encoding, all of which is handled by the [DataUtils class](#data_utils).\n",
        "TODO: more explanation / documentation ..."
      ]
    },
    {
      "cell_type": "markdown",
      "metadata": {
        "id": "k9ncf2XA-a4d"
      },
      "source": [
        "<a id=\"data_manager\"></a>\n",
        "### DataManager Class\n",
        "\n",
        "- Provides functionality regarding data including fetch, persistence and TF2/Keras preparation utils"
      ]
    },
    {
      "cell_type": "code",
      "source": [
        "!pip install biopython"
      ],
      "metadata": {
        "colab": {
          "base_uri": "https://localhost:8080/"
        },
        "id": "fgNEorLo-gU_",
        "outputId": "90333f25-3461-4316-a028-f4f9e5bc6f6f"
      },
      "execution_count": 2,
      "outputs": [
        {
          "output_type": "stream",
          "name": "stdout",
          "text": [
            "Collecting biopython\n",
            "  Downloading biopython-1.79-cp37-cp37m-manylinux_2_5_x86_64.manylinux1_x86_64.whl (2.3 MB)\n",
            "\u001b[K     |████████████████████████████████| 2.3 MB 5.2 MB/s \n",
            "\u001b[?25hRequirement already satisfied: numpy in /usr/local/lib/python3.7/dist-packages (from biopython) (1.19.5)\n",
            "Installing collected packages: biopython\n",
            "Successfully installed biopython-1.79\n"
          ]
        }
      ]
    },
    {
      "cell_type": "code",
      "execution_count": 3,
      "metadata": {
        "id": "1-rHWaum-a4e"
      },
      "outputs": [],
      "source": [
        "import os, json, logging, string\n",
        "from Bio import Entrez, Medline"
      ]
    },
    {
      "cell_type": "code",
      "execution_count": 4,
      "metadata": {
        "id": "0ynhg2b0-a4f"
      },
      "outputs": [],
      "source": [
        "class DataManager():\n",
        "    \"\"\"Provides fetch, save and load functionality for datasets in json format\"\"\"\n",
        "    \n",
        "    def __init__(self, email, root_dir):\n",
        "        self.email = email\n",
        "        self.root_dir = root_dir\n",
        "        self.log = logging.getLogger(self.__class__.__name__)\n",
        "\n",
        "    def _exists_dataset(self, name):\n",
        "        \"\"\"Checks whether a dataset with the given name exists\"\"\"\n",
        "        if not os.path.isdir(self.root_dir):\n",
        "            return False\n",
        "            \n",
        "        for file in os.listdir(self.root_dir):\n",
        "            if file.endswith(\".json\"):\n",
        "                with open(os.path.join(self.root_dir, file), 'r') as f:\n",
        "                    content = json.load(f)\n",
        "                    if content[\"name\"] == name:\n",
        "                        return True\n",
        "        return False\n",
        "\n",
        "    def _fetch_papers(self, query : str, limit : int) -> 'list[dict]':\n",
        "        \"\"\"Retrieves data from PubMed\"\"\"\n",
        "        Entrez.email = self.email\n",
        "        record = Entrez.read(Entrez.esearch(db=\"pubmed\", term=query, retmax=limit))\n",
        "        idlist = record[\"IdList\"]\n",
        "\n",
        "        self.log.info(\"\\nFound %d records for %s.\" % (len(idlist), query.strip()))\n",
        "\n",
        "        records = Medline.parse(Entrez.efetch(db=\"pubmed\", id=idlist, rettype=\"medline\", retmode = \"text\"))\n",
        "        return list(records)\n",
        "\n",
        "    def _fetch_abstracts(self, query : str, limit : int) -> 'list[str]':\n",
        "        \"\"\"Retrieves abstracts from PubMed\"\"\"\n",
        "        papers = self._fetch_papers(query, limit)\n",
        "        list_of_abstracts = [p['AB'] for p in papers]\n",
        "\n",
        "        return list_of_abstracts\n",
        "        \n",
        "    def create_dataset(self, queries : 'list[str]', name : str, limit=50, overwrite=False) -> None:\n",
        "        \"\"\"\n",
        "        Wraps other methods in this class\n",
        "        Creates a dataset from multiple queries\n",
        "        Does nothing if the dataset is already present (param overwrite)\n",
        "        Limits every query to <limit> results\n",
        "        \"\"\"\n",
        "        exists_dataset = self._exists_dataset(name)\n",
        "        if not exists_dataset or (exists_dataset and overwrite):\n",
        "            self.log.info(\"Dataset does not exist, fetching from PubMed...\")\n",
        "\n",
        "            res = dict()\n",
        "            res[\"name\"] = name\n",
        "            res[\"data\"] = list()\n",
        "            \n",
        "            for q in queries:\n",
        "                q_data = dict()\n",
        "                q_data[\"query\"] = q\n",
        "                q_data[\"abstracts\"] = self._fetch_abstracts(q, limit)\n",
        "                res[\"data\"].append(q_data)\n",
        "            \n",
        "            self._save_dataset(res, name)\n",
        "        else:\n",
        "            self.log.info(\"Dataset already exists, skipping fetch\")\n",
        "\n",
        "    def _save_dataset(self, dataset: dict, name : str) -> None:\n",
        "        \"\"\"\n",
        "        Creates a file <name>.json in the dataset directory\n",
        "        For JSON file structure see below\n",
        "        Param dataset has a structure analogous to the JSON file\n",
        "        \"\"\"\n",
        "        if not os.path.isdir(self.root_dir):\n",
        "            os.makedirs(self.root_dir)\n",
        "\n",
        "        with open(os.path.join(self.root_dir, name + \".json\"), 'w') as f:\n",
        "            json.dump(dataset, f, indent=2)\n",
        "        \n",
        "    def load_full_dataset(self, name : str) -> 'list[str]':\n",
        "        \"\"\"\n",
        "        Finds the file that matches given <name> in JSON information,\n",
        "        parses it, loading all abstracts into a list (one string for each abstract)\n",
        "        and returns it (Error if dataset doesn't exist)\n",
        "        \"\"\"\n",
        "\n",
        "        if  not self._exists_dataset(name):\n",
        "            self.log.info(\"Dataset does not exist\")\n",
        "            \n",
        "        else:\n",
        "           with open(os.path.join(self.root_dir, name+'.json'), 'r') as file:\n",
        "\n",
        "                abstract_list=[]\n",
        "                jsonObject = json.load(file)\n",
        "\n",
        "                data_list= jsonObject['data']\n",
        "\n",
        "                for item in data_list:\n",
        "                    abstract_list.extend(item['abstracts'])\n",
        "                return abstract_list\n",
        "\n",
        "    def load_query_from_dataset(self, name : str, query : str) -> 'list[str]':\n",
        "        \"\"\"Like load_full_dataset but only loads abstracts for a single query\"\"\"\n",
        "\n",
        "\n",
        "        result = self._exists_dataset(name)\n",
        "\n",
        "        if  result:\n",
        "\n",
        "            with open(os.path.join(self.root_dir, name+'.json'), 'r') as file:\n",
        "\n",
        "                query_abstracts=[]\n",
        "                jsonObject = json.load(file)\n",
        "                data_list= jsonObject['data']\n",
        "\n",
        "                q_names = [x['query'] for x in data_list]\n",
        "\n",
        "                if query not in q_names:\n",
        "                    self.log.info(\"The Query that you are searching for,does not exist in the Dataset\")\n",
        "                else:\n",
        "\n",
        "                      for queries in data_list:\n",
        "                            if queries['query'] == query:\n",
        "                              query_abstracts.extend(queries['abstracts'])\n",
        "                              return query_abstracts\n",
        "\n",
        "        else:\n",
        "             self.log.info(\"Dataset does not exist\")\n",
        "\n",
        "\n",
        "    def remove_punctuation(self, name:str) -> 'list[str]':\n",
        "\n",
        "\n",
        "            abstracts_list= self.load_full_dataset(name)\n",
        "\n",
        "            for text in abstracts:\n",
        "\n",
        "                text = text.translate(str.maketrans('', '', string.punctuation))\n",
        "                abstracts_list.append(text)\n",
        "\n",
        "\n",
        "            return  abstracts_list"
      ]
    },
    {
      "cell_type": "markdown",
      "metadata": {
        "id": "5byX7fyc-a4h"
      },
      "source": [
        "<a id=\"data_utils\"></a>\n",
        "### DataUtils Class\n",
        "- Static class providing utility functions to prepare data for training"
      ]
    },
    {
      "cell_type": "code",
      "execution_count": 5,
      "metadata": {
        "id": "Vxsw3AMu-a4h"
      },
      "outputs": [],
      "source": [
        "import numpy as np\n",
        "from typing import Any\n",
        "from sklearn.model_selection import train_test_split"
      ]
    },
    {
      "cell_type": "code",
      "execution_count": 6,
      "metadata": {
        "id": "Gn4elnKa-a4i"
      },
      "outputs": [],
      "source": [
        "# TODO: unify method param types (all np.array instead of list)\n",
        "class DataUtils():\n",
        "    \"\"\"Provides utility functions for data preparation\"\"\"\n",
        "    \n",
        "    @staticmethod\n",
        "    def extract_features_and_labels(sequences : 'list[list[Any]]', train_len : int) -> 'tuple[list[Any], list[Any]]':\n",
        "        \"\"\"\n",
        "        Extracts features of size <train_len> from the sequences\n",
        "        Also extracts every (<train_len>+1)-th word as labels\n",
        "        Returns tuple(features, labels)\n",
        "        \"\"\"\n",
        "        features = []\n",
        "        labels = []\n",
        "        for s in sequences:\n",
        "            for i in range(train_len, len(s)):\n",
        "\n",
        "                # Extract <train_len> + 1 words and\n",
        "                # shift by 1 after each iteration\n",
        "                # That way it generates a lot of training\n",
        "                # samples from a relatively small amount of data\n",
        "                ex = s[i-train_len : i+1]\n",
        "\n",
        "                # First <train_len> words are features\n",
        "                features.append(ex[:-1])\n",
        "                \n",
        "                # (<train_len>+1)-th word is label\n",
        "                labels.append(ex[-1])\n",
        "        \n",
        "        return (features, labels)\n",
        "             \n",
        "    @staticmethod\n",
        "    def encode_data(labels: 'list[Any]', num_code_words : int) -> np.array:\n",
        "        \"\"\"\n",
        "        One-hot encode labels using numpy to\n",
        "        improve the training speed of the network\n",
        "        \"\"\"\n",
        "\n",
        "        # Use numpy for better compatibility and performance\n",
        "        # Data type: 8bit integers for binary numbers (0, 1)\n",
        "        # Could be optimized in space by using single bits instead\n",
        "        # But that adds overhead in calculation (tradeoff time - space)\n",
        "        # Since we want improved training speed we just use\n",
        "        # numpys smallest data type byte/uint8 here\n",
        "        labels_encoded = np.zeros((len(labels), num_code_words), dtype=np.uint8)\n",
        "\n",
        "        # One-hot encode\n",
        "        for i, word in enumerate(labels):\n",
        "            labels_encoded[i, word] = 1\n",
        "            \n",
        "        return labels_encoded\n",
        "    \n",
        "    # Uses Scikit-learn here; maybe replace with own method in the future\n",
        "    @staticmethod\n",
        "    def split_data(features: np.array, labels: np.array, _test_size=0.2) -> Any:\n",
        "        \"\"\"\n",
        "        Splits features and labels into training and validation data sets\n",
        "        Returns: (features_training, features_validation, labels_training, labels_validation)\n",
        "        \"\"\"\n",
        "        return train_test_split(features, labels, test_size=_test_size)"
      ]
    },
    {
      "cell_type": "markdown",
      "metadata": {
        "id": "7DJfRQZSgWEU"
      },
      "source": [
        "<a id=\"impl_keras\"></a>\n",
        "## Keras Implementation (LSTM RNN)  \n",
        "For the general methodology regarding Keras neural networks see [Tensorflow Docs: Text generation with an RNN](https://www.tensorflow.org/text/tutorials/text_generation), [Sanchit Tanwar: Building our first neural network in keras](https://towardsdatascience.com/building-our-first-neural-network-in-keras-bdc8abbc17f5) and [Will Koehrsen: Recurrent Neural Networks by Example in Python](https://towardsdatascience.com/recurrent-neural-networks-by-example-in-python-ffd204f99470).\n",
        "In this case the sequences given are words instead of characters and the RNN predicts the next word.\n",
        "Therefore we use the Keras Tokenizer to convert sentences to vectors of word representatives (integers).\n",
        "After tokenization each 'word' will be converted to a feature vector using Keras pre-trained embeddings.\n",
        "Then we train the network by giving it n 'words' (features) from the PubMed training data and having it predict the (n+1)-th word (label) in the sequence.\n",
        "The predicted word is then compared to the actual word present in the training data and back-propagation is used to tweak the network layers."
      ]
    },
    {
      "cell_type": "markdown",
      "metadata": {
        "id": "zHgVW_Ut-a4j"
      },
      "source": [
        "<a id=\"keras_preparation\"></a>\n",
        "### Data preparation"
      ]
    },
    {
      "cell_type": "code",
      "execution_count": 7,
      "metadata": {
        "scrolled": true,
        "id": "XLfhk0cS-a4k"
      },
      "outputs": [],
      "source": [
        "from tensorflow.keras import Sequential\n",
        "from tensorflow.keras.layers import Embedding, LSTM, Masking, Dense, Dropout\n",
        "from tensorflow.keras.preprocessing.text import Tokenizer"
      ]
    },
    {
      "cell_type": "code",
      "execution_count": 8,
      "metadata": {
        "colab": {
          "base_uri": "https://localhost:8080/",
          "height": 467
        },
        "id": "H_DQrwTagWEY",
        "outputId": "4e45f78f-3658-49c6-b701-f2ffacc495cf"
      },
      "outputs": [
        {
          "output_type": "stream",
          "name": "stderr",
          "text": [
            "[INFO] DataManager: Dataset does not exist, fetching from PubMed...\n",
            "[INFO] DataManager: \n",
            "Found 5 records for RNA.\n",
            "[INFO] DataManager: \n",
            "Found 5 records for mRNA.\n"
          ]
        },
        {
          "output_type": "error",
          "ename": "KeyError",
          "evalue": "ignored",
          "traceback": [
            "\u001b[0;31m---------------------------------------------------------------------------\u001b[0m",
            "\u001b[0;31mKeyError\u001b[0m                                  Traceback (most recent call last)",
            "\u001b[0;32m<ipython-input-8-403b60139a25>\u001b[0m in \u001b[0;36m<module>\u001b[0;34m()\u001b[0m\n\u001b[1;32m     16\u001b[0m     \u001b[0;31m# since that depends on how long it takes to train the network\u001b[0m\u001b[0;34m\u001b[0m\u001b[0;34m\u001b[0m\u001b[0;34m\u001b[0m\u001b[0m\n\u001b[1;32m     17\u001b[0m     \u001b[0;31m# This only queries PubMed if data if the data is not already present\u001b[0m\u001b[0;34m\u001b[0m\u001b[0;34m\u001b[0m\u001b[0;34m\u001b[0m\u001b[0m\n\u001b[0;32m---> 18\u001b[0;31m     \u001b[0mdman\u001b[0m\u001b[0;34m.\u001b[0m\u001b[0mcreate_dataset\u001b[0m\u001b[0;34m(\u001b[0m\u001b[0mqueries\u001b[0m\u001b[0;34m,\u001b[0m \u001b[0mdataset_name\u001b[0m\u001b[0;34m,\u001b[0m \u001b[0;36m5\u001b[0m\u001b[0;34m)\u001b[0m\u001b[0;34m\u001b[0m\u001b[0;34m\u001b[0m\u001b[0m\n\u001b[0m\u001b[1;32m     19\u001b[0m \u001b[0;34m\u001b[0m\u001b[0m\n\u001b[1;32m     20\u001b[0m     \u001b[0;31m# Load the dataset\u001b[0m\u001b[0;34m\u001b[0m\u001b[0;34m\u001b[0m\u001b[0;34m\u001b[0m\u001b[0m\n",
            "\u001b[0;32m<ipython-input-4-6c3536f3e6db>\u001b[0m in \u001b[0;36mcreate_dataset\u001b[0;34m(self, queries, name, limit, overwrite)\u001b[0m\n\u001b[1;32m     56\u001b[0m                 \u001b[0mq_data\u001b[0m \u001b[0;34m=\u001b[0m \u001b[0mdict\u001b[0m\u001b[0;34m(\u001b[0m\u001b[0;34m)\u001b[0m\u001b[0;34m\u001b[0m\u001b[0;34m\u001b[0m\u001b[0m\n\u001b[1;32m     57\u001b[0m                 \u001b[0mq_data\u001b[0m\u001b[0;34m[\u001b[0m\u001b[0;34m\"query\"\u001b[0m\u001b[0;34m]\u001b[0m \u001b[0;34m=\u001b[0m \u001b[0mq\u001b[0m\u001b[0;34m\u001b[0m\u001b[0;34m\u001b[0m\u001b[0m\n\u001b[0;32m---> 58\u001b[0;31m                 \u001b[0mq_data\u001b[0m\u001b[0;34m[\u001b[0m\u001b[0;34m\"abstracts\"\u001b[0m\u001b[0;34m]\u001b[0m \u001b[0;34m=\u001b[0m \u001b[0mself\u001b[0m\u001b[0;34m.\u001b[0m\u001b[0m_fetch_abstracts\u001b[0m\u001b[0;34m(\u001b[0m\u001b[0mq\u001b[0m\u001b[0;34m,\u001b[0m \u001b[0mlimit\u001b[0m\u001b[0;34m)\u001b[0m\u001b[0;34m\u001b[0m\u001b[0;34m\u001b[0m\u001b[0m\n\u001b[0m\u001b[1;32m     59\u001b[0m                 \u001b[0mres\u001b[0m\u001b[0;34m[\u001b[0m\u001b[0;34m\"data\"\u001b[0m\u001b[0;34m]\u001b[0m\u001b[0;34m.\u001b[0m\u001b[0mappend\u001b[0m\u001b[0;34m(\u001b[0m\u001b[0mq_data\u001b[0m\u001b[0;34m)\u001b[0m\u001b[0;34m\u001b[0m\u001b[0;34m\u001b[0m\u001b[0m\n\u001b[1;32m     60\u001b[0m \u001b[0;34m\u001b[0m\u001b[0m\n",
            "\u001b[0;32m<ipython-input-4-6c3536f3e6db>\u001b[0m in \u001b[0;36m_fetch_abstracts\u001b[0;34m(self, query, limit)\u001b[0m\n\u001b[1;32m     34\u001b[0m         \u001b[0;34m\"\"\"Retrieves abstracts from PubMed\"\"\"\u001b[0m\u001b[0;34m\u001b[0m\u001b[0;34m\u001b[0m\u001b[0m\n\u001b[1;32m     35\u001b[0m         \u001b[0mpapers\u001b[0m \u001b[0;34m=\u001b[0m \u001b[0mself\u001b[0m\u001b[0;34m.\u001b[0m\u001b[0m_fetch_papers\u001b[0m\u001b[0;34m(\u001b[0m\u001b[0mquery\u001b[0m\u001b[0;34m,\u001b[0m \u001b[0mlimit\u001b[0m\u001b[0;34m)\u001b[0m\u001b[0;34m\u001b[0m\u001b[0;34m\u001b[0m\u001b[0m\n\u001b[0;32m---> 36\u001b[0;31m         \u001b[0mlist_of_abstracts\u001b[0m \u001b[0;34m=\u001b[0m \u001b[0;34m[\u001b[0m\u001b[0mp\u001b[0m\u001b[0;34m[\u001b[0m\u001b[0;34m'AB'\u001b[0m\u001b[0;34m]\u001b[0m \u001b[0;32mfor\u001b[0m \u001b[0mp\u001b[0m \u001b[0;32min\u001b[0m \u001b[0mpapers\u001b[0m\u001b[0;34m]\u001b[0m\u001b[0;34m\u001b[0m\u001b[0;34m\u001b[0m\u001b[0m\n\u001b[0m\u001b[1;32m     37\u001b[0m \u001b[0;34m\u001b[0m\u001b[0m\n\u001b[1;32m     38\u001b[0m         \u001b[0;32mreturn\u001b[0m \u001b[0mlist_of_abstracts\u001b[0m\u001b[0;34m\u001b[0m\u001b[0;34m\u001b[0m\u001b[0m\n",
            "\u001b[0;32m<ipython-input-4-6c3536f3e6db>\u001b[0m in \u001b[0;36m<listcomp>\u001b[0;34m(.0)\u001b[0m\n\u001b[1;32m     34\u001b[0m         \u001b[0;34m\"\"\"Retrieves abstracts from PubMed\"\"\"\u001b[0m\u001b[0;34m\u001b[0m\u001b[0;34m\u001b[0m\u001b[0m\n\u001b[1;32m     35\u001b[0m         \u001b[0mpapers\u001b[0m \u001b[0;34m=\u001b[0m \u001b[0mself\u001b[0m\u001b[0;34m.\u001b[0m\u001b[0m_fetch_papers\u001b[0m\u001b[0;34m(\u001b[0m\u001b[0mquery\u001b[0m\u001b[0;34m,\u001b[0m \u001b[0mlimit\u001b[0m\u001b[0;34m)\u001b[0m\u001b[0;34m\u001b[0m\u001b[0;34m\u001b[0m\u001b[0m\n\u001b[0;32m---> 36\u001b[0;31m         \u001b[0mlist_of_abstracts\u001b[0m \u001b[0;34m=\u001b[0m \u001b[0;34m[\u001b[0m\u001b[0mp\u001b[0m\u001b[0;34m[\u001b[0m\u001b[0;34m'AB'\u001b[0m\u001b[0;34m]\u001b[0m \u001b[0;32mfor\u001b[0m \u001b[0mp\u001b[0m \u001b[0;32min\u001b[0m \u001b[0mpapers\u001b[0m\u001b[0;34m]\u001b[0m\u001b[0;34m\u001b[0m\u001b[0;34m\u001b[0m\u001b[0m\n\u001b[0m\u001b[1;32m     37\u001b[0m \u001b[0;34m\u001b[0m\u001b[0m\n\u001b[1;32m     38\u001b[0m         \u001b[0;32mreturn\u001b[0m \u001b[0mlist_of_abstracts\u001b[0m\u001b[0;34m\u001b[0m\u001b[0;34m\u001b[0m\u001b[0m\n",
            "\u001b[0;31mKeyError\u001b[0m: 'AB'"
          ]
        }
      ],
      "source": [
        "if __name__ == \"__main__\":\n",
        "    # Init logging\n",
        "    logging.basicConfig(level=logging.DEBUG, format='[%(levelname)s] %(name)s: %(message)s')\n",
        "    log = logging.getLogger(\"Main\")\n",
        "\n",
        "    # Create DataManager in '../res/datasets' folder\n",
        "    data_folder = os.path.join(\"..\", \"res\", \"datasets\")\n",
        "    dman = DataManager(\"mymail@example.com\", data_folder)\n",
        "\n",
        "    dataset_name = \"RNA Dataset\"\n",
        "    queries = [\"RNA\", \"mRNA\", \"tRNA\"]\n",
        "\n",
        "    # Gather maximum of 100 abstracts for each query\n",
        "    # I would suggest around 5 - 20 abstracts in total for the small data sets\n",
        "    # and maybe 500 - 5000 for the final ones but we'll have to test\n",
        "    # since that depends on how long it takes to train the network\n",
        "    # This only queries PubMed if data if the data is not already present\n",
        "    dman.create_dataset(queries, dataset_name, 5)\n",
        "\n",
        "    # Load the dataset\n",
        "    abstracts = dman.load_full_dataset(dataset_name)\n",
        "    abstracts_mrna = dman.load_query_from_dataset(dataset_name, queries[1])\n",
        "\n",
        "    ab = dman.remove_punctuation(dataset_name)\n",
        "\n",
        "    assert(len(ab) > 0)\n",
        "    log.debug(f\"First extracted abstract: {ab[0]}\")\n",
        "\n",
        "    # Tokenize abstracts\n",
        "    # See https://www.tensorflow.org/api_docs/python/tf/keras/preprocessing/text/Tokenizer\n",
        "    # Filters slightly modified (comp. to docs) to keep punctuation\n",
        "    # Lowercase has to be used for pre-trained embeddings\n",
        "    tokenizer = Tokenizer(\n",
        "        num_words=None, \n",
        "        filters='#$%&()*+-,<=>@[\\\\]^_`{|}~\\t\\n',\n",
        "        lower = True, split = ' '\n",
        "    )\n",
        "\n",
        "    tokenizer.fit_on_texts(ab)\n",
        "\n",
        "    # Generates list of lists of integers\n",
        "    # Can be reversed with the sequences_to_texts() function of the tokenizer\n",
        "    sequences = tokenizer.texts_to_sequences(ab)\n",
        "\n",
        "    assert(len(sequences) > 0)\n",
        "    log.debug(f\"First tokenized sequence: {sequences[0]}\")\n",
        "\n",
        "    # Prepare data for input to RNN\n",
        "    # Extract features and labels\n",
        "    # Number of words before prediction: num_pred\n",
        "    num_pred = 20\n",
        "    features, labels = DataUtils.extract_features_and_labels(sequences, 20)\n",
        "\n",
        "    assert(len(features) > 0 and len(labels) > 0)\n",
        "    log.debug(f\"First extracted feature: {tokenizer.sequences_to_texts(features)[0]} {features[0]}\")\n",
        "    log.debug(f\"First extracted label: {tokenizer.index_word[labels[0]]} [{labels[0]}]\")\n",
        "\n",
        "    # One-hot encode data for improved training performance\n",
        "    num_code_words = len(tokenizer.index_word) + 1\n",
        "    labels_encoded = DataUtils.encode_data(labels, num_code_words)\n",
        "    \n",
        "    assert(len(labels_encoded) > 0)\n",
        "    log.debug(f\"First one-hot encoded label: [0 ... {labels_encoded[0][labels[0]]} (at index {labels[0]}) ... 0]\")\n",
        "\n",
        "    # Final log for prepared data\n",
        "    log.info(f\"Loaded {labels_encoded.shape[0]} sequences\"\n",
        "             f\" with an encoded length of ~{labels_encoded.shape[1] // 8} bytes per sequence\")\n",
        "    \n",
        "    # Convert features to numpy array\n",
        "    # This is necessary for input to the RNN\n",
        "    features = np.array(features)\n",
        "    \n",
        "    # Split dataset into training and validation sets\n",
        "    features_training, features_validation, labels_training, labels_validation = \\\n",
        "    DataUtils.split_data(features, labels_encoded, 0.1)\n",
        "    \n",
        "    assert(len(features_training) > 0 and len(features_validation) > 0 and\n",
        "           len(labels_training) > 0 and len(labels_validation) > 0)\n",
        "    log.info(f\"Size of training data: {features_training.shape[0]} sequences\")\n",
        "    log.info(f\"Size of validation data: {features_validation.shape[0]} sequences\")\n",
        "    \n",
        "    log.info(\"Training data preparation finished\")"
      ]
    },
    {
      "cell_type": "markdown",
      "metadata": {
        "id": "lNnGtqZq-a4l"
      },
      "source": [
        "<a id=\"keras_rnn\"></a>\n",
        "### The neural Network"
      ]
    },
    {
      "cell_type": "code",
      "execution_count": null,
      "metadata": {
        "id": "VRHKm03T-a4l"
      },
      "outputs": [],
      "source": [
        "# TODO: create neural network using Keras\n",
        "pass\n",
        "\n",
        "# Training the model\n",
        "# history = model.fit(features_training, labels_training,\n",
        "# validation_data=(features_validation, labels_validation), epochs=100, batch_size=64)"
      ]
    }
  ],
  "metadata": {
    "colab": {
      "collapsed_sections": [],
      "name": "dataset.ipynb",
      "provenance": [],
      "include_colab_link": true
    },
    "kernelspec": {
      "display_name": "Python 3 (ipykernel)",
      "language": "python",
      "name": "python3"
    },
    "language_info": {
      "codemirror_mode": {
        "name": "ipython",
        "version": 3
      },
      "file_extension": ".py",
      "mimetype": "text/x-python",
      "name": "python",
      "nbconvert_exporter": "python",
      "pygments_lexer": "ipython3",
      "version": "3.8.5"
    }
  },
  "nbformat": 4,
  "nbformat_minor": 0
}