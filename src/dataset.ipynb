{
 "cells": [
  {
   "cell_type": "markdown",
   "metadata": {},
   "source": [
    "# Dataset Notebook\n",
    "<a href=\"https://colab.research.google.com/github/hacksaremeta/IS-Sentence-Completion/blob/datasets/src/dataset.ipynb\" target=\"_parent\"><img src=\"https://colab.research.google.com/assets/colab-badge.svg\" alt=\"Open In Colab\"/></a>\n",
    "- Provides functionality regarding data including fetch, persistence and TF2/Keras preparation utils"
   ]
  },
  {
   "cell_type": "markdown",
   "metadata": {
    "id": "7DJfRQZSgWEU"
   },
   "source": [
    "## DataManager Class\n",
    "- Provides save and load functionality for datasets in json format"
   ]
  },
  {
   "cell_type": "code",
   "execution_count": 1,
   "metadata": {},
   "outputs": [],
   "source": [
    "import os, json, logging, string\n",
    "from Bio import Entrez, Medline\n",
    "from typing import Any"
   ]
  },
  {
   "cell_type": "code",
   "execution_count": 2,
   "metadata": {
    "colab": {
     "base_uri": "https://localhost:8080/",
     "height": 374
    },
    "id": "H_DQrwTagWEY",
    "outputId": "d069f3db-b8dd-462a-9cc0-85479051eb8a"
   },
   "outputs": [],
   "source": [
    "class DataManager():\n",
    "    \"\"\"Provides save and load functionality for datasets in json format\"\"\"\n",
    "    def __init__(self, email, root_dir):\n",
    "        self.email = email\n",
    "        self.root_dir = root_dir\n",
    "        self.log = logging.getLogger(self.__class__.__name__)\n",
    "\n",
    "    def _exists_dataset(self, name):\n",
    "        \"\"\"Checks whether a dataset with the given name exists\"\"\"\n",
    "        if not os.path.isdir(self.root_dir):\n",
    "            return False\n",
    "            \n",
    "        for file in os.listdir(self.root_dir):\n",
    "            if file.endswith(\".json\"):\n",
    "                with open(os.path.join(self.root_dir, file), 'r') as f:\n",
    "                    content = json.load(f)\n",
    "                    if content[\"name\"] == name:\n",
    "                        return True\n",
    "        return False\n",
    "\n",
    "    def _fetch_papers(self, query : str, limit : int) -> 'list[dict]':\n",
    "        \"\"\"Retrieves data from PubMed\"\"\"\n",
    "        Entrez.email = self.email\n",
    "        record = Entrez.read(Entrez.esearch(db=\"pubmed\", term=query, retmax=limit))\n",
    "        idlist = record[\"IdList\"]\n",
    "\n",
    "        self.log.info(\"\\nFound %d records for %s.\" % (len(idlist), query.strip()))\n",
    "\n",
    "        records = Medline.parse(Entrez.efetch(db=\"pubmed\", id=idlist, rettype=\"medline\", retmode = \"text\"))\n",
    "        return list(records)\n",
    "\n",
    "    def _fetch_abstracts(self, query : str, limit : int) -> 'list[str]':\n",
    "        \"\"\"Retrieves abstracts from PubMed\"\"\"\n",
    "        papers = self._fetch_papers(query, limit)\n",
    "        list_of_abstracts = [p['AB'] for p in papers]\n",
    "\n",
    "        return list_of_abstracts\n",
    "        \n",
    "    def create_dataset(self, queries : 'list[str]', name : str, limit=50, overwrite=False) -> None:\n",
    "        \"\"\"\n",
    "        Wraps other methods in this class\n",
    "        Creates a dataset from multiple queries\n",
    "        Does nothing if the dataset is already present (param overwrite)\n",
    "        Limits every query to <limit> results\n",
    "        \"\"\"\n",
    "        exists_dataset = self._exists_dataset(name)\n",
    "        if not exists_dataset or (exists_dataset and overwrite):\n",
    "            self.log.info(\"Dataset does not exist, fetching from PubMed...\")\n",
    "\n",
    "            res = dict()\n",
    "            res[\"name\"] = name\n",
    "            res[\"data\"] = list()\n",
    "            \n",
    "            for q in queries:\n",
    "                q_data = dict()\n",
    "                q_data[\"query\"] = q\n",
    "                q_data[\"abstracts\"] = self._fetch_abstracts(q, limit)\n",
    "                res[\"data\"].append(q_data)\n",
    "            \n",
    "            self._save_dataset(res, name)\n",
    "        else:\n",
    "            self.log.info(\"Dataset already exists, skipping fetch\")\n",
    "\n",
    "    def _save_dataset(self, dataset: dict, name : str) -> None:\n",
    "        \"\"\"\n",
    "        Creates a file <name>.json in the dataset directory\n",
    "        For JSON file structure see below\n",
    "        Param dataset has a structure analogous to the JSON file\n",
    "        \"\"\"\n",
    "        if not os.path.isdir(self.root_dir):\n",
    "            os.makedirs(self.root_dir)\n",
    "\n",
    "        with open(os.path.join(self.root_dir, name + \".json\"), 'w') as f:\n",
    "            json.dump(dataset, f, indent=2)\n",
    "        \n",
    "    def load_full_dataset(self, name : str) -> 'list[str]':\n",
    "        \"\"\"\n",
    "        Finds the file that matches given <name> in JSON information,\n",
    "        parses it, loading all abstracts into a list (one string for each abstract)\n",
    "        and returns it (Error if dataset doesn't exist)\n",
    "        \"\"\"\n",
    "\n",
    "        if  not self._exists_dataset(name):\n",
    "            self.log.info(\"Dataset does not exist\")\n",
    "            \n",
    "        else:\n",
    "           with open(os.path.join(self.root_dir, name+'.json'), 'r') as file:\n",
    "\n",
    "                abstract_list=[]\n",
    "                jsonObject = json.load(file)\n",
    "\n",
    "                data_list= jsonObject['data']\n",
    "\n",
    "                for item in data_list:\n",
    "                    abstract_list.extend(item['abstracts'])\n",
    "                return abstract_list\n",
    "\n",
    "    def load_query_from_dataset(self, name : str, query : str) -> 'list[str]':\n",
    "        \"\"\"Like load_full_dataset but only loads abstracts for a single query\"\"\"\n",
    "\n",
    "\n",
    "        result = self._exists_dataset(name)\n",
    "\n",
    "        if  result:\n",
    "\n",
    "            with open(os.path.join(self.root_dir, name+'.json'), 'r') as file:\n",
    "\n",
    "                query_abstracts=[]\n",
    "                jsonObject = json.load(file)\n",
    "                data_list= jsonObject['data']\n",
    "\n",
    "                q_names = [x['query'] for x in data_list]\n",
    "\n",
    "                if query not in q_names:\n",
    "                    self.log.info(\"The Query that you are searching for,does not exist in the Dataset\")\n",
    "                else:\n",
    "\n",
    "                      for queries in data_list:\n",
    "                            if queries['query'] == query:\n",
    "                              query_abstracts.extend(queries['abstracts'])\n",
    "                              return query_abstracts\n",
    "\n",
    "        else:\n",
    "             self.log.info(\"Dataset does not exist\")\n",
    "\n",
    "\n",
    "    def remove_punctuation(self, name:str) -> 'list[str]':\n",
    "\n",
    "\n",
    "            abstracts_list= self.load_full_dataset(name)\n",
    "\n",
    "            for text in abstracts:\n",
    "\n",
    "                text = text.translate(str.maketrans('', '', string.punctuation))\n",
    "                abstracts_list.append(text)\n",
    "\n",
    "\n",
    "            return  abstracts_list"
   ]
  },
  {
   "cell_type": "markdown",
   "metadata": {},
   "source": [
    "### DataManager Example"
   ]
  },
  {
   "cell_type": "code",
   "execution_count": 3,
   "metadata": {
    "id": "r1MyIvScgWEa"
   },
   "outputs": [
    {
     "name": "stderr",
     "output_type": "stream",
     "text": [
      "[INFO] DataManager: Dataset already exists, skipping fetch\n"
     ]
    }
   ],
   "source": [
    "# Usage example\n",
    "if __name__ == \"__main__\":\n",
    "    # Set log level\n",
    "    logging.basicConfig(level=logging.DEBUG, format='[%(levelname)s] %(name)s: %(message)s')\n",
    "\n",
    "    # Create DataManager in '../res/datasets' folder\n",
    "    data_folder = os.path.join(\"..\", \"res\", \"datasets\")\n",
    "    dman = DataManager(\"mymail@example.com\", data_folder)\n",
    "\n",
    "    dataset_name = \"RNA Dataset\"\n",
    "    queries = [\"RNA\", \"mRNA\", \"tRNA\"]\n",
    "\n",
    "    # Gather maximum of 100 abstracts for each query\n",
    "    # I would suggest around 5 - 20 abstracts in total for the small data sets\n",
    "    # and maybe 500 - 5000 for the final ones but we'll have to test\n",
    "    # since that depends on how long it takes to train the network\n",
    "    # This only queries PubMed if data if the data is not already present\n",
    "    dman.create_dataset(queries, dataset_name, 5)\n",
    "\n",
    "    # Load the dataset\n",
    "    abstracts = dman.load_full_dataset(dataset_name)\n",
    "    abstracts_mrna = dman.load_query_from_dataset(dataset_name, queries[1])\n",
    "\n",
    "    ab = dman.remove_punctuation(dataset_name)\n",
    "    # Do stuff with abstracts\n",
    "    pass\n"
   ]
  },
  {
   "cell_type": "code",
   "execution_count": 4,
   "metadata": {},
   "outputs": [
    {
     "data": {
      "text/plain": [
       "['Long noncoding RNA nuclear paraspeckle assembly transcript 1 (lncRNA NEAT1) is abnormally expressed in numerous tumors and functions as an oncogene, but the role of NEAT1 in laryngocarcinoma is largely unknown. Our study validated that NEAT1 expression was markedly upregulated in laryngocarcinoma tissues and cells. Downregulation of NEAT1 dramatically suppressed cell proliferation and invasion through inhibiting miR-524-5p expression. Additionally, NEAT1 overexpression promoted cell growth and metastasis, while overexpression of miR-524-5p could reverse the effect. NEAT1 increased the expression of histone deacetylase 1 gene (HDAC1) via sponging miR-524-5p. Mechanistically, overexpression of HDAC1 recovered the cancer-inhibiting effects of miR-524-5p mimic or NEAT1 silence by deacetylation of tensin homolog deleted on chromosome ten (PTEN) and inhibiting AKT signal pathway. Moreover, in vivo experiments indicated that silence of NEAT1 signally suppressed tumor growth. Taken together, knockdown of NEAT1 suppressed laryngocarcinoma cell growth and metastasis by miR-524-5p/HDAC1/PTEN/AKT signal pathway, which provided a potential therapeutic target for laryngocarcinoma.',\n",
       " 'Psammochloa villosa is a desert plant growing in Northwest China with considerable resistance to abiotic stress, including drought, cold, and salt. To facilitate future studies of stress resistance in Psammochloa villosa, we sought to establish a suite of reference (or housekeeping) genes for utilization within future gene expression studies. Specifically, we selected nine candidate genes based on prior studies and new transcriptomic data for P. villosa, and we evaluated their expression stability in three different tissues of P. villosa under different treatments simulating abiotic stress conditions using four different bioinformatics assessments. Our results showed that TIP41 (TIP41-like family protein) was the most stable reference gene in drought- and salt-stressed leaves and salt-stressed stems, ELF-1alpha (elongation factor 1-alpha) was the most stable in cold-stressed leaves and drought- and salt-stressed roots, ACT (actin) was the most stable in drought-stressed stems, TUA (alpha-tubulin) was the most stable in cold-stressed stems, and 18S rRNA (18S ribosomal RNA) was the most stable in cold-stressed roots. Additionally, we tested the utility of these candidate reference genes to detect the expression pattern of P5CS (Delta(1)-pyrroline-5-carboxylate synthetase), which is a drought-related gene. This study is the first report on selecting and validating reference genes of P. villosa under various stress conditions and will benefit future investigations of the genomic mechanisms of stress resistance in this ecologically important species.',\n",
       " '6:2 Chlorinated polyfluorinated ether sulfonate (6:2 Cl-PFESA), an alternative product of perfluorooctane sulfonate (PFOS), has been frequently detected in various environmental, wildlife, and human samples. A few studies revealed the hepatotoxicity of 6:2 Cl-PFESA in animals, but the underlying toxicity mechanisms remain largely unknown. In this study, we investigated the lipid metabolism disorders of 6:2 Cl-PFESA through miRNA-gene interaction mode in Huh-7 cells. Our results showed that 6:2 Cl-PFESA significantly promoted cellular lipid accumulation and increased the expression of Acyl-CoA oxidase 1 (ACOX1), with the lowest effective concentrations (LOECs) of 3 muM. In silico analysis showed that hsa-miR-532-3p is a potential miRNA molecule targeting ACOX1. Fluorescent-based RNA electrophoretic mobility shift assay (FREMSA) and ACOX1-mediated luciferase reporter gene assays showed that hsa-miR-532-3p could directly bind to ACOX1 and inhibit its transcription activity. Besides, 6:2 Cl-PFESA decreased the expression of hsa-miR-532-3p in the PPARalpha-independent manner. Overexpression of hsa-miR-532-3p promoted 6:2 Cl-PFESA-induced cellular lipid accumulation and decreased the ACOX1 production in Huh-7 cells. Taken together, at human exposure relevant concentrations, 6:2 Cl-PFESA might upregulate the expression levels of ACOX1 through downregulating hsa-miR-532-3p, and disturbed lipid homeostasis in Huh-7 cells, which revealed a novel epigenetic mechanism of 6:2 Cl-PFESA-induced hepatic lipid toxic effects.',\n",
       " 'BACKGROUND: Recent studies have reported that receptor-interacting protein kinase 3 (RIPK3)-dependent necroptosis is related to the pathological process of intracerebral hemorrhage (ICH). Some studies support the view that inhibiting necroptosis is a key mechanism preventing inflammation. Inflammation is a crucial factor contributing to neurological injuries and unfavorable outcomes after ICH. The aim of this study was to clarify the association between necroptosis and monocyte chemoattractant protein-1 (MCP-1)-mediated inflammation and identify a new target for the treatment of ICH. METHODS: An ICH model was established in C57BL/6 mice by injecting collagenase IV into the right basal ganglia. The RIPK3 inhibitor GSK872 was administered through intraventricular injection. Then, we assessed brain edema and neurobehavioral function. Western blotting was employed to detect changes in RIPK3, phospho-mixed lineage kinase domain-like protein (p-MLKL), MCP-1, phospho-c-Jun N-terminal kinase (p-JNK) and interleukin 6 (IL-6) levels in the brain tissue. The localization of RIPK3 and MCP-1 was observed using immunofluorescence staining. Co-immunoprecipitation was performed to determine the interaction between RIPK3 and MCP-1. RESULTS: Compared with the sham group, the levels of RIPK3, p-MLKL, MCP-1, p-JNK and IL-6 were increased post-ICH. GSK872 pretreatment significantly reduced RIPK3, p-MLKL, MCP-1, p-JNK and IL-6 expression, accompanied by mitigated cerebral edema and neurobehavioral defects. RIPK3 and MCP-1 colocalized in the perinuclear region after ICH. We detected the formation of the RIPK3-MCP-1 complex in ICH brain tissue. CONCLUSIONS: There exerted an association between RIPK3 and MCP-1. The inhibition of RIPK3 alleviated MCP-1-mediated inflammation following ICH.',\n",
       " 'Decidualization accompanies with extensive stromal cell proliferation and differentiation, is a crucial step in early pregnancy. Aberrant decidualization is linked to infertility and miscarriage but the mechanisms remain unclear. Carnitine palmitoyltransferase 1A (CPT1A) is an enzyme catalyzing key steps in the fatty acid beta-oxidation pathway. The objective of this study was to investigate the role of CPT1A in decidualization during early pregnancy. An increased expression of CPT1A was found both in Days 6 and 7 as compared with in Days 1, 4 and 5. Further examination showed that on days 5-7 of pregnancy, the protein level of CPT1A was strongly up-regulated at implantation sites compared with inter-implantation sites, the location of CPT1A protein was distributed in the decidual zone. Upon further exploration, CPT1A expression was significantly increased in response to artificially induced decidualization both in vivo and in vitro. After down-regulating CPT1A expression by CPT1A-small interfering RNA (siCPT1A) in primary mouse endometrial stromal cells, expressions of decidualization markers and cell proliferation markers were decreased. After siCPT1A was transfected into the mouse uterus, decidualization impaired and then led to the loss of the implanted embryos. Thus, CPT1A is important for decidualization in mice and it may regulate the stromal cell proliferation progress. It is worth noting that the expression of CPT1A protein of human decidua was significantly decreased in spontaneous abortion groups compared to normal pregnancy groups. Collectively, CPT1A is essential for endometrium of early pregnant mice and humans.',\n",
       " \"BACKGROUND: Exosomal miRNAs have attracted increasing interest as potential biomarkers and treatment targets for cancers, however, glioblastoma (GBM)-related exosomal miRNAs remain rarely reported. The study aimed to screen crucial serum exosomal miRNAs in GBM patients and explored their possible mechanisms. METHODS: Serum exosomal miRNA profile datasets of GBM patients and normal controls were downloaded from the Gene Expression Omnibus database (GSE112462 and GSE122488). The differentially expressed miRNAs (DEMs) were identified using the limma method. Their diagnostic values were assessed by receiver operating characteristic (ROC) curve analysis. The target genes of DEMs were predicted by the miRwalk 2.0 database. Function enrichment analysis was performed using the DAVID database. The expression and prognosis of target genes were validated using TCGA sequencing data and immunohistochemistry. RESULTS: Seven DEMs were shared in two datasets, among which hsa-miR-183-5p and hsa-miR-98-5p as well as has-miR-323-3p or has-miR-19b-3p constituted a diagnostic signature to distinguish GBM from controls, with the area under the ROC curve nearly approximate to 1. MAPK8IP1/FAM175B, OSMR/CASP3, PTPN2 and FBXO32 may be underlying targets for hsa-miR-183-5p, hsa-miR-98-5p, has-miR-323-3p and has-miR-19b-3p, respectively. Function analysis showed all of these target genes were involved in cell proliferation and related signaling pathways [positive regulation of cell proliferation (OSMR), negative regulation of transcription from RNA polymerase II promoter (PTPN2), cell division (FAM175B), regulation of transcription, DNA-templated (MAPK8IP1), hsa05200:Pathways in cancer (CASP3) and hsa04068:FoxO signaling pathway (FBXO32)]. The protein and (or mRNA) expression levels of OSMR, CASP3, PTPN2 and FBXO32 were validated to be upregulated, while MAPK8IP1 and FAM175B were downregulated in GBM tissues. Also, OSMR, CASP3, PTPN2 and FBXO32 were associated with patients' prognosis. CONCLUSION: These findings suggest these four exosomal miRNAs may represent potential diagnostic biomarkers and therapeutic targets for GBM.\",\n",
       " 'OBJECTIVE: To assess the potential effect of dl-3-N-butylphthalide (dl-NBP) for the proliferation and differentiation of neural stem cells (NSCs) against hypoxia and the underlying mechanism. MATERIALS AND METHODS: Hippocampal NSCs were obtained from fetal rats. NSCs combined with dl-NBP and single NSCs were cultured. The impact of siRNA-mediated hypoxia-inducible factor-1alpha (HIF-1alpha) knockdown on NSCs was detected with western blotting (WB) and quantitative real-time reverse transcription polymerase chain reaction (RT-qPCR). Cell-counting kit-8 assay was used for evaluating the viability of NSCs. Levels of HIF-1alpha protein were measured using WB, and vascular endothelial growth factor (VEGF) expression was quantified using RT-qPCR and enzyme-linked immunosorbent assay. RESULTS: Compared with 7 different concentrations of dl-NBP, 0.25 g/L was determined as the optimal concentration to significantly increase the viability of NSCs (p < 0.001). Dl-NBP can significantly increase the viability of hypoxic NSCs (p < 0.001) and improve the differentiation of hypoxic NSCs into astrocytes (p = 0.001) and oligodendrocytes (p < 0.001). Meanwhile, Dl-NBP can significantly elevate levels of HIF-1alpha protein (p < 0.001) and VEGF mRNA (p = 0.001) / protein (p < 0.001) in NSCs in the hypoxic environment. However, after transfection with HIF-1alpha siRNA in NSCs, the viability and differentiation of NSCs was not recovered using dl-NBP under the hypoxic condition, as well as levels of HIF-1alpha and VEGF. CONCLUSION: Dl-NBP can reverse the weaker proliferation and differentiation power of NSCs in the hypoxic environment. The HIF-1alpha - VEGF pathway may be implicated in this protective effect of dl-NBP.',\n",
       " 'Objective: Trimethylamine-N-Oxide (TMAO) is considered as a risk factor for atherosclerosis which further leads to inflammation during atherosclerosis. The exact mechanism(s) by which TMAO induces the inflammatory reactions remains to be determined. TMAO can cause the endoplasmic reticulum (ER) stress that triggers activation of Toll-Like Receptors (TLRs). In macrophages, this process stimulates the production of proinflammatory cytokines. This study designed to evaluate the expression level of TLR4 in TMAO-treated macrophages. Materials and Methods: In this experimental study, different concentrations of TMAO (37.5, 75, 150, and 300 muM) were exposed to murine macrophage (J774A.1 cell line) for 8, 18, 24, and 48 hours. The cells were also treated with 2.5 mM of 4-phenyl butyric acid as well as 2mug/ml of tunicamycin respectively as negative and positive controls for inducing ER-stress. We measured the viability of treated cells by the MTT test. Besides, the expression levels of TLR4 gene and protein were evaluated using western blotting and reverse transcription- quantitative polymerase chain reaction (RT-qPCR) analysis. One-Way ANOVA was used for statistical analysis. Results: No cell death was observed in treated cells. The cells treated with 150 and 300 muM doses of TMAO for 24 hours showed a significant elevation in the protein and/or mRNA levels of TLR4 when compared to normal control or tunicamycin-treated cells. Conclusion: Our results may in part elucidate the mechanism by which TMAO induces the macrophage inflammatory reactions in response to the induction of ER stress, similar to what happens during atherosclerosis. It also provides documentation to support the direct contribution of TLR4 in TMAO-induced inflammation.',\n",
       " 'Objective: Multiple myeloma (MM) is the clonal proliferation of neoplastic plasma cells in the bone marrow. Although bortezomib (BTZ) is a crucial drug for the treatment of MM, drug resistance is a major problem. OncomiR-19a plays an oncogenic role in many cancers, including MM; however, the function of miR-19a in the pathogenesis of MM and drug resistance has not been completely identified. The present research aims to investigate the inhibition of miR-19a by an antagomir to determine BTZ responsiveness, and determine if miR-19a can be a prognostic biomarker for MM. Materials and Methods: In this experimental study, viability and apoptosis of myeloma cells were analysed by the colorimetric 3-(4, 5-Dimethylthiazol-2-yl)-2, 5-Diphenyltetrazolium Bromide (MTT) and Annexin V/propidium iodide (PI) flow cytometry assays. Quantitative real-time polymerase chain reaction (qRT-PCR) was implemented to evaluate the expression levels of miR-19a, its targets SOCS3, STAT3, B-cell lymphoma 2 (BCL-2), PTEN and CDKN1A (antiapoptotic and cell cycle related genes) at the mRNA level. Results: miR-19a was downregulated and exacerbated in transfected cells treated with BTZ. The rate of apoptosis in the myeloma cells after BTZ treatment considerably increased, which indicated an increase in the mRNA of SOCS3, PTEN, BCL-2, and CDKN1. A decrease in STAT3 was also observed. Conclusion: OncomiR-19a, as a biomarker, may induce better responsiveness to BTZ in myeloma cell lines through its targets SOCS3, STAT3 and PTEN. In the future, this biomarker may provide new therapeutic targets for MM.',\n",
       " 'Neuroprotective, antineuroinflammatory, and proneurogenic effects of glucosamine, a naturally occurring amino sugar, have been reported in various animal models of brain injury including cerebral ischemia and hypoxic brain damage. Given that clinical translation of therapeutic candidates identified in animal models of ischemic stroke has remained unsatisfactory in general, possibly due to inadequacy of existing models, we sought to study the effects of glucosamine in a recently developed, clinical condition mimicking mouse model of internal cerebral artery occlusion. In this model of mild to moderate striatal damage, glucosamine ameliorated behavioral dysfunction, rescued ischemia-induced striatal damage, and suppressed ischemia-induced upregulation of proinflammatory genes in striatal tissue. Further, in ex vivo neurosphere assay involving neural stem cells/neural progenitor cells from subventricular zone, glucosamine increased the number of large neurospheres, along with enhancing mRNA levels of the proliferation markers Nestin, NeuroD1, and Sox2. Lastly, coronal brain sections containing the striatal region with subventricular zone showed increased number of BrdU positive cells and DCX positive cells, a marker for newly differentiating and immature neurons, in glucosamine-treated ischemic mice. Cumulatively, the results confirming neuroprotective, antineuroinflammatory, and proneurogenic effects of glucosamine enhance drug repurposing potential of glucosamine in cerebral ischemia.',\n",
       " 'PURPOSE: Colorectal cancer (CRC) is one of the most commonly diagnosed malignant tumors and highly heterogeneous diseases. More recently, RNA expression profiles have been used as prognostic cancer markers. In this regard, the expression of small non-coding RNAs like tRNA-derived fragments (tRFs) in tumor tissue has potential diagnostic values in metastatic cancer. METHOD: Sixty postoperative CRC tissue samples, consisting of 30 cancers and 30 adjacent normal tissues, were collected from cancer patients. We evaluated MINTbase database to select tRNA-derived fragments. The expression levels of miR-1280, miR1308, tRNA-Val(AAC/CAC), and tRNA-Asp(GTC) were measured by TaqMan quantitative reverse transcription PCR technology. Also, we have evaluated the correlation between the levels of tRFs gene expression and clinicopathological of CRC disease. RESULT: The three tRFs derived from tRF/miR-1280, tRNA-Val(AAC/CAC), and tRNA-Asp(GTC) downregulated in tumor tissues (all, p < 0.0001). These tRFs have lower expression in stage IV in comparison with stage III. The tRFs derived from tRNA-Val(AAC) (p = 0.005) and tRNA-Asp(GTC) (p = 0.034) showed the decreased expression in CRC patients with distant metastasis. CONCLUSION: The present study demonstrated that low expression of tRF/miR-1280, tRNA-Val(AAC/CAC), and tRNA-Asp(GTC) was significantly associated with metastatic stage and more aggressive tumor behavior of CRC disease. Our finding promising the potential of using tRFs as biomarkers for cancer diagnosis.',\n",
       " 'Diet bioactive components, in the concept of nutrigenetics and nutrigenomics, consist of food constituents, which can transfer information from the external environment and influence gene expression in the cell and thus the function of the whole organism. It is crucial to regard food not only as the source of energy and basic nutriments, crucial for living and organism development, but also as the factor influencing health/disease, biochemical mechanisms, and activation of biochemical pathways. Bioactive components of the diet regulate gene expression through changes in the chromatin structure (including DNA methylation and histone modification), non-coding RNA, activation of transcription factors by signalling cascades, or direct ligand binding to the nuclear receptors. Analysis of interactions between diet components and human genome structure and gene activity is a modern approach that will help to better understand these relations and will allow designing dietary guidances, which can help maintain good health.',\n",
       " 'Sourdough is a fermentation culture which is formed following metabolic activities of a multiple bacterial and fungal species on raw dough. However, little is known about the mechanism of interaction among different species involved in fermentation. In this study, Lactiplantibacillus plantarum Sx3 and Saccharomyces cerevisiae Sq7 were selected. Protein changes in sourdough, fermented with single culture (either Sx3 or Sq7) and mixed culture (both Sx3 and Sq7), were evaluated by proteomics. The results show that carbohydrate metabolism in mixed-culture-based sourdough is the most important metabolic pathway. A greater abundance of L-lactate dehydrogenase and UDP-glucose 4-epimerase that contribute to the quality of sourdough were observed in mixed-culture-based sourdough than those produced by a single culture. Calreticulin, enolase, seryl-tRNA synthetase, ribosomal protein L23, ribosomal protein L16, and ribosomal protein L5 that are needed for the stability of proteins were increased in mixed-culture-based sourdough. The abundance of some compounds which play an important role in enhancing the nutritional characteristics and flavour of sourdough (citrate synthase, aldehyde dehydrogenase, pyruvate decarboxylase, pyruvate dehydrogenase E1 and acetyl-CoA) was decreased. In summary, this approach provided new insights into the interaction between L. plantarum and S. cerevisiae in sourdough, which may serve as a base for further research into the detailed mechanism.',\n",
       " 'The potential presence of spore-forming bacteria related to the Bacillus cereus group in Mexican chili powder elaborated from Capsicum annuum L. is of commercial and clinical interest, because chili powder is an essential spice in the Mexican diet and in diets around the globe. To facilitate detection and isolation of members of this group of spore-forming bacteria from Mexican chili powder samples, we identified colonies that grew on agar medium selective for Bacillus cereus sensu lato, supplemented with polymyxin B (10 microg/mL) and ampicillin (10 to 100 microg/mL). The presumptive B. cereus (s.l.) isolates were tested using a tRNA(Cys)-PCR-based approach and the results identified species related phylogenetically to B. cereus, B. thuringiensis, and B. toyonensis. Their toxigenic potential was assessed by serological tests to detect enterotoxins (Nhe and Hbl) and by PCR targeting the hemolysin BL (hbl) component C (hblC) and non-hemolytic enterotoxin component A (nheA). The antibiotic profiles of the isolates showed a high resistance to beta-lactams (100% of the isolates), trimethoprim-sulfamethoxazole (100%), tetracycline (90%), erythromycin (77%), clindamycin (74%), and chloramphenicol (42%). Our results indicate the presence of B. cereus s.l. with toxigenic characteristics in Mexican chili powder. Because of the potential for these organisms to cause disease through their production of various toxins, and resistance to antibiotics, we recommend that a microbiological risk assessment must be considered in the Mexican regulatory requirements.',\n",
       " \"Crayfish are a keystone species of freshwater ecosystems and a successful invasive species. However, their pathogens, including viruses, remain understudied. The aim of this study was to analyze the virome of the invasive signal crayfish (Pacifastacus leniusculus) and to elucidate the potential differences in viral composition and abundance along its invasion range in the Korana River, Croatia. By the high-throughput sequencing of ribosomal RNA, depleted total RNA isolated from the crayfish hepatopancreas, and subsequent sequence data analysis, we identified novel and divergent RNA viruses, including signal crayfish-associated reo-like, hepe-like, toti-like, and picorna-like viruses, phylogenetically related to viruses previously associated with crustacean hosts. The patterns of reads abundance and calculated nucleotide diversities of the detected viral sequences varied along the invasion range. This could indicate the possible influence of different factors and processes on signal crayfish virome composition: e.g., the differences in signal crayfish population density, the non-random dispersal of host individuals from the core to the invasion fronts, and the transfer of viruses from the native co-occurring and phylogenetically related crayfish species. The study reveals a high, previously undiscovered diversity of divergent RNA viruses associated with signal crayfish, and sets foundations for understanding the potential risk of virus transmissions as a result of this invader's dispersal.\",\n",
       " 'Long noncoding RNA nuclear paraspeckle assembly transcript 1 lncRNA NEAT1 is abnormally expressed in numerous tumors and functions as an oncogene but the role of NEAT1 in laryngocarcinoma is largely unknown Our study validated that NEAT1 expression was markedly upregulated in laryngocarcinoma tissues and cells Downregulation of NEAT1 dramatically suppressed cell proliferation and invasion through inhibiting miR5245p expression Additionally NEAT1 overexpression promoted cell growth and metastasis while overexpression of miR5245p could reverse the effect NEAT1 increased the expression of histone deacetylase 1 gene HDAC1 via sponging miR5245p Mechanistically overexpression of HDAC1 recovered the cancerinhibiting effects of miR5245p mimic or NEAT1 silence by deacetylation of tensin homolog deleted on chromosome ten PTEN and inhibiting AKT signal pathway Moreover in vivo experiments indicated that silence of NEAT1 signally suppressed tumor growth Taken together knockdown of NEAT1 suppressed laryngocarcinoma cell growth and metastasis by miR5245pHDAC1PTENAKT signal pathway which provided a potential therapeutic target for laryngocarcinoma',\n",
       " 'Psammochloa villosa is a desert plant growing in Northwest China with considerable resistance to abiotic stress including drought cold and salt To facilitate future studies of stress resistance in Psammochloa villosa we sought to establish a suite of reference or housekeeping genes for utilization within future gene expression studies Specifically we selected nine candidate genes based on prior studies and new transcriptomic data for P villosa and we evaluated their expression stability in three different tissues of P villosa under different treatments simulating abiotic stress conditions using four different bioinformatics assessments Our results showed that TIP41 TIP41like family protein was the most stable reference gene in drought and saltstressed leaves and saltstressed stems ELF1alpha elongation factor 1alpha was the most stable in coldstressed leaves and drought and saltstressed roots ACT actin was the most stable in droughtstressed stems TUA alphatubulin was the most stable in coldstressed stems and 18S rRNA 18S ribosomal RNA was the most stable in coldstressed roots Additionally we tested the utility of these candidate reference genes to detect the expression pattern of P5CS Delta1pyrroline5carboxylate synthetase which is a droughtrelated gene This study is the first report on selecting and validating reference genes of P villosa under various stress conditions and will benefit future investigations of the genomic mechanisms of stress resistance in this ecologically important species',\n",
       " '62 Chlorinated polyfluorinated ether sulfonate 62 ClPFESA an alternative product of perfluorooctane sulfonate PFOS has been frequently detected in various environmental wildlife and human samples A few studies revealed the hepatotoxicity of 62 ClPFESA in animals but the underlying toxicity mechanisms remain largely unknown In this study we investigated the lipid metabolism disorders of 62 ClPFESA through miRNAgene interaction mode in Huh7 cells Our results showed that 62 ClPFESA significantly promoted cellular lipid accumulation and increased the expression of AcylCoA oxidase 1 ACOX1 with the lowest effective concentrations LOECs of 3 muM In silico analysis showed that hsamiR5323p is a potential miRNA molecule targeting ACOX1 Fluorescentbased RNA electrophoretic mobility shift assay FREMSA and ACOX1mediated luciferase reporter gene assays showed that hsamiR5323p could directly bind to ACOX1 and inhibit its transcription activity Besides 62 ClPFESA decreased the expression of hsamiR5323p in the PPARalphaindependent manner Overexpression of hsamiR5323p promoted 62 ClPFESAinduced cellular lipid accumulation and decreased the ACOX1 production in Huh7 cells Taken together at human exposure relevant concentrations 62 ClPFESA might upregulate the expression levels of ACOX1 through downregulating hsamiR5323p and disturbed lipid homeostasis in Huh7 cells which revealed a novel epigenetic mechanism of 62 ClPFESAinduced hepatic lipid toxic effects',\n",
       " 'BACKGROUND Recent studies have reported that receptorinteracting protein kinase 3 RIPK3dependent necroptosis is related to the pathological process of intracerebral hemorrhage ICH Some studies support the view that inhibiting necroptosis is a key mechanism preventing inflammation Inflammation is a crucial factor contributing to neurological injuries and unfavorable outcomes after ICH The aim of this study was to clarify the association between necroptosis and monocyte chemoattractant protein1 MCP1mediated inflammation and identify a new target for the treatment of ICH METHODS An ICH model was established in C57BL6 mice by injecting collagenase IV into the right basal ganglia The RIPK3 inhibitor GSK872 was administered through intraventricular injection Then we assessed brain edema and neurobehavioral function Western blotting was employed to detect changes in RIPK3 phosphomixed lineage kinase domainlike protein pMLKL MCP1 phosphocJun Nterminal kinase pJNK and interleukin 6 IL6 levels in the brain tissue The localization of RIPK3 and MCP1 was observed using immunofluorescence staining Coimmunoprecipitation was performed to determine the interaction between RIPK3 and MCP1 RESULTS Compared with the sham group the levels of RIPK3 pMLKL MCP1 pJNK and IL6 were increased postICH GSK872 pretreatment significantly reduced RIPK3 pMLKL MCP1 pJNK and IL6 expression accompanied by mitigated cerebral edema and neurobehavioral defects RIPK3 and MCP1 colocalized in the perinuclear region after ICH We detected the formation of the RIPK3MCP1 complex in ICH brain tissue CONCLUSIONS There exerted an association between RIPK3 and MCP1 The inhibition of RIPK3 alleviated MCP1mediated inflammation following ICH',\n",
       " 'Decidualization accompanies with extensive stromal cell proliferation and differentiation is a crucial step in early pregnancy Aberrant decidualization is linked to infertility and miscarriage but the mechanisms remain unclear Carnitine palmitoyltransferase 1A CPT1A is an enzyme catalyzing key steps in the fatty acid betaoxidation pathway The objective of this study was to investigate the role of CPT1A in decidualization during early pregnancy An increased expression of CPT1A was found both in Days 6 and 7 as compared with in Days 1 4 and 5 Further examination showed that on days 57 of pregnancy the protein level of CPT1A was strongly upregulated at implantation sites compared with interimplantation sites the location of CPT1A protein was distributed in the decidual zone Upon further exploration CPT1A expression was significantly increased in response to artificially induced decidualization both in vivo and in vitro After downregulating CPT1A expression by CPT1Asmall interfering RNA siCPT1A in primary mouse endometrial stromal cells expressions of decidualization markers and cell proliferation markers were decreased After siCPT1A was transfected into the mouse uterus decidualization impaired and then led to the loss of the implanted embryos Thus CPT1A is important for decidualization in mice and it may regulate the stromal cell proliferation progress It is worth noting that the expression of CPT1A protein of human decidua was significantly decreased in spontaneous abortion groups compared to normal pregnancy groups Collectively CPT1A is essential for endometrium of early pregnant mice and humans',\n",
       " 'BACKGROUND Exosomal miRNAs have attracted increasing interest as potential biomarkers and treatment targets for cancers however glioblastoma GBMrelated exosomal miRNAs remain rarely reported The study aimed to screen crucial serum exosomal miRNAs in GBM patients and explored their possible mechanisms METHODS Serum exosomal miRNA profile datasets of GBM patients and normal controls were downloaded from the Gene Expression Omnibus database GSE112462 and GSE122488 The differentially expressed miRNAs DEMs were identified using the limma method Their diagnostic values were assessed by receiver operating characteristic ROC curve analysis The target genes of DEMs were predicted by the miRwalk 20 database Function enrichment analysis was performed using the DAVID database The expression and prognosis of target genes were validated using TCGA sequencing data and immunohistochemistry RESULTS Seven DEMs were shared in two datasets among which hsamiR1835p and hsamiR985p as well as hasmiR3233p or hasmiR19b3p constituted a diagnostic signature to distinguish GBM from controls with the area under the ROC curve nearly approximate to 1 MAPK8IP1FAM175B OSMRCASP3 PTPN2 and FBXO32 may be underlying targets for hsamiR1835p hsamiR985p hasmiR3233p and hasmiR19b3p respectively Function analysis showed all of these target genes were involved in cell proliferation and related signaling pathways positive regulation of cell proliferation OSMR negative regulation of transcription from RNA polymerase II promoter PTPN2 cell division FAM175B regulation of transcription DNAtemplated MAPK8IP1 hsa05200Pathways in cancer CASP3 and hsa04068FoxO signaling pathway FBXO32 The protein and or mRNA expression levels of OSMR CASP3 PTPN2 and FBXO32 were validated to be upregulated while MAPK8IP1 and FAM175B were downregulated in GBM tissues Also OSMR CASP3 PTPN2 and FBXO32 were associated with patients prognosis CONCLUSION These findings suggest these four exosomal miRNAs may represent potential diagnostic biomarkers and therapeutic targets for GBM',\n",
       " 'OBJECTIVE To assess the potential effect of dl3Nbutylphthalide dlNBP for the proliferation and differentiation of neural stem cells NSCs against hypoxia and the underlying mechanism MATERIALS AND METHODS Hippocampal NSCs were obtained from fetal rats NSCs combined with dlNBP and single NSCs were cultured The impact of siRNAmediated hypoxiainducible factor1alpha HIF1alpha knockdown on NSCs was detected with western blotting WB and quantitative realtime reverse transcription polymerase chain reaction RTqPCR Cellcounting kit8 assay was used for evaluating the viability of NSCs Levels of HIF1alpha protein were measured using WB and vascular endothelial growth factor VEGF expression was quantified using RTqPCR and enzymelinked immunosorbent assay RESULTS Compared with 7 different concentrations of dlNBP 025 gL was determined as the optimal concentration to significantly increase the viability of NSCs p  0001 DlNBP can significantly increase the viability of hypoxic NSCs p  0001 and improve the differentiation of hypoxic NSCs into astrocytes p  0001 and oligodendrocytes p  0001 Meanwhile DlNBP can significantly elevate levels of HIF1alpha protein p  0001 and VEGF mRNA p  0001  protein p  0001 in NSCs in the hypoxic environment However after transfection with HIF1alpha siRNA in NSCs the viability and differentiation of NSCs was not recovered using dlNBP under the hypoxic condition as well as levels of HIF1alpha and VEGF CONCLUSION DlNBP can reverse the weaker proliferation and differentiation power of NSCs in the hypoxic environment The HIF1alpha  VEGF pathway may be implicated in this protective effect of dlNBP',\n",
       " 'Objective TrimethylamineNOxide TMAO is considered as a risk factor for atherosclerosis which further leads to inflammation during atherosclerosis The exact mechanisms by which TMAO induces the inflammatory reactions remains to be determined TMAO can cause the endoplasmic reticulum ER stress that triggers activation of TollLike Receptors TLRs In macrophages this process stimulates the production of proinflammatory cytokines This study designed to evaluate the expression level of TLR4 in TMAOtreated macrophages Materials and Methods In this experimental study different concentrations of TMAO 375 75 150 and 300 muM were exposed to murine macrophage J774A1 cell line for 8 18 24 and 48 hours The cells were also treated with 25 mM of 4phenyl butyric acid as well as 2mugml of tunicamycin respectively as negative and positive controls for inducing ERstress We measured the viability of treated cells by the MTT test Besides the expression levels of TLR4 gene and protein were evaluated using western blotting and reverse transcription quantitative polymerase chain reaction RTqPCR analysis OneWay ANOVA was used for statistical analysis Results No cell death was observed in treated cells The cells treated with 150 and 300 muM doses of TMAO for 24 hours showed a significant elevation in the protein andor mRNA levels of TLR4 when compared to normal control or tunicamycintreated cells Conclusion Our results may in part elucidate the mechanism by which TMAO induces the macrophage inflammatory reactions in response to the induction of ER stress similar to what happens during atherosclerosis It also provides documentation to support the direct contribution of TLR4 in TMAOinduced inflammation',\n",
       " 'Objective Multiple myeloma MM is the clonal proliferation of neoplastic plasma cells in the bone marrow Although bortezomib BTZ is a crucial drug for the treatment of MM drug resistance is a major problem OncomiR19a plays an oncogenic role in many cancers including MM however the function of miR19a in the pathogenesis of MM and drug resistance has not been completely identified The present research aims to investigate the inhibition of miR19a by an antagomir to determine BTZ responsiveness and determine if miR19a can be a prognostic biomarker for MM Materials and Methods In this experimental study viability and apoptosis of myeloma cells were analysed by the colorimetric 34 5Dimethylthiazol2yl2 5Diphenyltetrazolium Bromide MTT and Annexin Vpropidium iodide PI flow cytometry assays Quantitative realtime polymerase chain reaction qRTPCR was implemented to evaluate the expression levels of miR19a its targets SOCS3 STAT3 Bcell lymphoma 2 BCL2 PTEN and CDKN1A antiapoptotic and cell cycle related genes at the mRNA level Results miR19a was downregulated and exacerbated in transfected cells treated with BTZ The rate of apoptosis in the myeloma cells after BTZ treatment considerably increased which indicated an increase in the mRNA of SOCS3 PTEN BCL2 and CDKN1 A decrease in STAT3 was also observed Conclusion OncomiR19a as a biomarker may induce better responsiveness to BTZ in myeloma cell lines through its targets SOCS3 STAT3 and PTEN In the future this biomarker may provide new therapeutic targets for MM',\n",
       " 'Neuroprotective antineuroinflammatory and proneurogenic effects of glucosamine a naturally occurring amino sugar have been reported in various animal models of brain injury including cerebral ischemia and hypoxic brain damage Given that clinical translation of therapeutic candidates identified in animal models of ischemic stroke has remained unsatisfactory in general possibly due to inadequacy of existing models we sought to study the effects of glucosamine in a recently developed clinical condition mimicking mouse model of internal cerebral artery occlusion In this model of mild to moderate striatal damage glucosamine ameliorated behavioral dysfunction rescued ischemiainduced striatal damage and suppressed ischemiainduced upregulation of proinflammatory genes in striatal tissue Further in ex vivo neurosphere assay involving neural stem cellsneural progenitor cells from subventricular zone glucosamine increased the number of large neurospheres along with enhancing mRNA levels of the proliferation markers Nestin NeuroD1 and Sox2 Lastly coronal brain sections containing the striatal region with subventricular zone showed increased number of BrdU positive cells and DCX positive cells a marker for newly differentiating and immature neurons in glucosaminetreated ischemic mice Cumulatively the results confirming neuroprotective antineuroinflammatory and proneurogenic effects of glucosamine enhance drug repurposing potential of glucosamine in cerebral ischemia',\n",
       " 'PURPOSE Colorectal cancer CRC is one of the most commonly diagnosed malignant tumors and highly heterogeneous diseases More recently RNA expression profiles have been used as prognostic cancer markers In this regard the expression of small noncoding RNAs like tRNAderived fragments tRFs in tumor tissue has potential diagnostic values in metastatic cancer METHOD Sixty postoperative CRC tissue samples consisting of 30 cancers and 30 adjacent normal tissues were collected from cancer patients We evaluated MINTbase database to select tRNAderived fragments The expression levels of miR1280 miR1308 tRNAValAACCAC and tRNAAspGTC were measured by TaqMan quantitative reverse transcription PCR technology Also we have evaluated the correlation between the levels of tRFs gene expression and clinicopathological of CRC disease RESULT The three tRFs derived from tRFmiR1280 tRNAValAACCAC and tRNAAspGTC downregulated in tumor tissues all p  00001 These tRFs have lower expression in stage IV in comparison with stage III The tRFs derived from tRNAValAAC p  0005 and tRNAAspGTC p  0034 showed the decreased expression in CRC patients with distant metastasis CONCLUSION The present study demonstrated that low expression of tRFmiR1280 tRNAValAACCAC and tRNAAspGTC was significantly associated with metastatic stage and more aggressive tumor behavior of CRC disease Our finding promising the potential of using tRFs as biomarkers for cancer diagnosis',\n",
       " 'Diet bioactive components in the concept of nutrigenetics and nutrigenomics consist of food constituents which can transfer information from the external environment and influence gene expression in the cell and thus the function of the whole organism It is crucial to regard food not only as the source of energy and basic nutriments crucial for living and organism development but also as the factor influencing healthdisease biochemical mechanisms and activation of biochemical pathways Bioactive components of the diet regulate gene expression through changes in the chromatin structure including DNA methylation and histone modification noncoding RNA activation of transcription factors by signalling cascades or direct ligand binding to the nuclear receptors Analysis of interactions between diet components and human genome structure and gene activity is a modern approach that will help to better understand these relations and will allow designing dietary guidances which can help maintain good health',\n",
       " 'Sourdough is a fermentation culture which is formed following metabolic activities of a multiple bacterial and fungal species on raw dough However little is known about the mechanism of interaction among different species involved in fermentation In this study Lactiplantibacillus plantarum Sx3 and Saccharomyces cerevisiae Sq7 were selected Protein changes in sourdough fermented with single culture either Sx3 or Sq7 and mixed culture both Sx3 and Sq7 were evaluated by proteomics The results show that carbohydrate metabolism in mixedculturebased sourdough is the most important metabolic pathway A greater abundance of Llactate dehydrogenase and UDPglucose 4epimerase that contribute to the quality of sourdough were observed in mixedculturebased sourdough than those produced by a single culture Calreticulin enolase seryltRNA synthetase ribosomal protein L23 ribosomal protein L16 and ribosomal protein L5 that are needed for the stability of proteins were increased in mixedculturebased sourdough The abundance of some compounds which play an important role in enhancing the nutritional characteristics and flavour of sourdough citrate synthase aldehyde dehydrogenase pyruvate decarboxylase pyruvate dehydrogenase E1 and acetylCoA was decreased In summary this approach provided new insights into the interaction between L plantarum and S cerevisiae in sourdough which may serve as a base for further research into the detailed mechanism',\n",
       " 'The potential presence of sporeforming bacteria related to the Bacillus cereus group in Mexican chili powder elaborated from Capsicum annuum L is of commercial and clinical interest because chili powder is an essential spice in the Mexican diet and in diets around the globe To facilitate detection and isolation of members of this group of sporeforming bacteria from Mexican chili powder samples we identified colonies that grew on agar medium selective for Bacillus cereus sensu lato supplemented with polymyxin B 10 microgmL and ampicillin 10 to 100 microgmL The presumptive B cereus sl isolates were tested using a tRNACysPCRbased approach and the results identified species related phylogenetically to B cereus B thuringiensis and B toyonensis Their toxigenic potential was assessed by serological tests to detect enterotoxins Nhe and Hbl and by PCR targeting the hemolysin BL hbl component C hblC and nonhemolytic enterotoxin component A nheA The antibiotic profiles of the isolates showed a high resistance to betalactams 100 of the isolates trimethoprimsulfamethoxazole 100 tetracycline 90 erythromycin 77 clindamycin 74 and chloramphenicol 42 Our results indicate the presence of B cereus sl with toxigenic characteristics in Mexican chili powder Because of the potential for these organisms to cause disease through their production of various toxins and resistance to antibiotics we recommend that a microbiological risk assessment must be considered in the Mexican regulatory requirements',\n",
       " 'Crayfish are a keystone species of freshwater ecosystems and a successful invasive species However their pathogens including viruses remain understudied The aim of this study was to analyze the virome of the invasive signal crayfish Pacifastacus leniusculus and to elucidate the potential differences in viral composition and abundance along its invasion range in the Korana River Croatia By the highthroughput sequencing of ribosomal RNA depleted total RNA isolated from the crayfish hepatopancreas and subsequent sequence data analysis we identified novel and divergent RNA viruses including signal crayfishassociated reolike hepelike totilike and picornalike viruses phylogenetically related to viruses previously associated with crustacean hosts The patterns of reads abundance and calculated nucleotide diversities of the detected viral sequences varied along the invasion range This could indicate the possible influence of different factors and processes on signal crayfish virome composition eg the differences in signal crayfish population density the nonrandom dispersal of host individuals from the core to the invasion fronts and the transfer of viruses from the native cooccurring and phylogenetically related crayfish species The study reveals a high previously undiscovered diversity of divergent RNA viruses associated with signal crayfish and sets foundations for understanding the potential risk of virus transmissions as a result of this invaders dispersal']"
      ]
     },
     "execution_count": 4,
     "metadata": {},
     "output_type": "execute_result"
    }
   ],
   "source": [
    "ab"
   ]
  },
  {
   "cell_type": "markdown",
   "metadata": {},
   "source": [
    "## DataUtils class\n",
    "- Static class providing functionality for data preparation for TF2/Keras"
   ]
  },
  {
   "cell_type": "code",
   "execution_count": 5,
   "metadata": {},
   "outputs": [],
   "source": [
    "class DataUtils():\n",
    "    @staticmethod\n",
    "    def extract_features_and_labels(sequences : 'list[list[Any]]', train_len : int) -> 'tuple[list[Any], list[Any]]':\n",
    "        \"\"\"\n",
    "        Extracts features of size <train_len> from the sequences\n",
    "        Also extracts every (<train_len>+1)-th word as labels\n",
    "        Returns tuple(features, labels)\n",
    "        \"\"\"\n",
    "        features = []\n",
    "        labels = []\n",
    "        for s in sequences:\n",
    "            for i in range(train_len, len(s)):\n",
    "\n",
    "                # Extract <train_len> + 1 words and\n",
    "                # shift by 1 after each iteration\n",
    "                # That way it generates a lot of training\n",
    "                # samples from a relatively small amount of data\n",
    "                ex = s[i-train_len : i+1]\n",
    "\n",
    "                # First <train_len> words are features\n",
    "                features.append(ex[:-1])\n",
    "                \n",
    "                # (<train_len>+1)-th word is label\n",
    "                labels.append(ex[-1])\n",
    "        \n",
    "        return (features, labels)\n"
   ]
  },
  {
   "cell_type": "code",
   "execution_count": null,
   "metadata": {},
   "outputs": [],
   "source": []
  }
 ],
 "metadata": {
  "colab": {
   "collapsed_sections": [],
   "include_colab_link": true,
   "name": "dataset.ipynb",
   "provenance": []
  },
  "kernelspec": {
   "display_name": "Python 3",
   "language": "python",
   "name": "python3"
  },
  "language_info": {
   "codemirror_mode": {
    "name": "ipython",
    "version": 3
   },
   "file_extension": ".py",
   "mimetype": "text/x-python",
   "name": "python",
   "nbconvert_exporter": "python",
   "pygments_lexer": "ipython3",
   "version": "3.8.5"
  }
 },
 "nbformat": 4,
 "nbformat_minor": 1
}
